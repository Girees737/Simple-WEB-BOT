{
 "cells": [
  {
   "cell_type": "code",
   "execution_count": 360,
   "metadata": {},
   "outputs": [],
   "source": [
    "import pandas as pd\n",
    "import pickle\n",
    "from sklearn.utils import resample\n",
    "import string\n",
    "from nltk.stem import WordNetLemmatizer\n",
    "import spacy\n",
    "import re\n",
    "import os\n",
    "import nltk\n",
    "import numpy as np\n",
    "import itertools\n",
    "from sklearn.utils import resample\n",
    "from sklearn.metrics import classification_report\n",
    "lemma = nltk.WordNetLemmatizer()\n",
    "from nltk.stem import PorterStemmer\n",
    "from sklearn.model_selection import train_test_split\n",
    "from sklearn.linear_model import SGDClassifier\n",
    "from sklearn.pipeline import Pipeline\n",
    "import math as mt\n",
    "from nltk.corpus import stopwords\n",
    "from sklearn.feature_extraction.text import CountVectorizer\n",
    "from sklearn.metrics import accuracy_score, confusion_matrix,classification_report\n",
    "import matplotlib.pyplot as plt\n",
    "import seaborn as sns\n",
    "from sklearn.cluster import KMeans\n",
    "import re\n",
    "import string\n",
    "import numpy as np\n",
    "from sklearn import metrics\n",
    "from scipy.spatial.distance import cdist"
   ]
  },
  {
   "cell_type": "code",
   "execution_count": 361,
   "metadata": {},
   "outputs": [
    {
     "data": {
      "text/plain": [
       "(2483, 6)"
      ]
     },
     "execution_count": 361,
     "metadata": {},
     "output_type": "execute_result"
    }
   ],
   "source": [
    "data.shape"
   ]
  },
  {
   "cell_type": "code",
   "execution_count": 367,
   "metadata": {},
   "outputs": [],
   "source": [
    "data=pd.read_csv('C:\\\\Users\\\\hp\\\\Downloads\\\\XH_chat_final.csv')\n",
    "data.dropna(subset=['id'],inplace=True)"
   ]
  },
  {
   "cell_type": "code",
   "execution_count": 365,
   "metadata": {},
   "outputs": [
    {
     "data": {
      "text/html": [
       "<div>\n",
       "<style>\n",
       "    .dataframe thead tr:only-child th {\n",
       "        text-align: right;\n",
       "    }\n",
       "\n",
       "    .dataframe thead th {\n",
       "        text-align: left;\n",
       "    }\n",
       "\n",
       "    .dataframe tbody tr th {\n",
       "        vertical-align: top;\n",
       "    }\n",
       "</style>\n",
       "<table border=\"1\" class=\"dataframe\">\n",
       "  <thead>\n",
       "    <tr style=\"text-align: right;\">\n",
       "      <th></th>\n",
       "      <th>Unnamed: 0</th>\n",
       "      <th>id</th>\n",
       "      <th>Cluster_x</th>\n",
       "      <th>Subcluster</th>\n",
       "      <th>issue</th>\n",
       "      <th>full_chat</th>\n",
       "    </tr>\n",
       "  </thead>\n",
       "  <tbody>\n",
       "    <tr>\n",
       "      <th>0</th>\n",
       "      <td>0</td>\n",
       "      <td>702106</td>\n",
       "      <td>Alarm_Issues</td>\n",
       "      <td>Others</td>\n",
       "      <td>my lights is out not cut off is my alarm still...</td>\n",
       "      <td>['my lights is out not cut off is my alarm sti...</td>\n",
       "    </tr>\n",
       "    <tr>\n",
       "      <th>1</th>\n",
       "      <td>1</td>\n",
       "      <td>702125</td>\n",
       "      <td>Keypad_Issues</td>\n",
       "      <td>Entry_delay_Alert</td>\n",
       "      <td>several times in the last couple of weeks I ha...</td>\n",
       "      <td>['several times in the last couple of weeks I ...</td>\n",
       "    </tr>\n",
       "    <tr>\n",
       "      <th>2</th>\n",
       "      <td>2</td>\n",
       "      <td>702381</td>\n",
       "      <td>Keypad_Issues</td>\n",
       "      <td>NaN</td>\n",
       "      <td>My alarm key pad is not working and I am scare...</td>\n",
       "      <td>['My alarm key pad is not working and I am sca...</td>\n",
       "    </tr>\n",
       "    <tr>\n",
       "      <th>3</th>\n",
       "      <td>3</td>\n",
       "      <td>702408</td>\n",
       "      <td>Password_Reset/Forget_Password</td>\n",
       "      <td>Manage_keypad_Codes</td>\n",
       "      <td>how do I set a temporary code to give to a dog...</td>\n",
       "      <td>['how do I set a temporary code to give to a d...</td>\n",
       "    </tr>\n",
       "    <tr>\n",
       "      <th>4</th>\n",
       "      <td>4</td>\n",
       "      <td>702971</td>\n",
       "      <td>Password_Reset/Forget_Password</td>\n",
       "      <td>Reset_Central_Station_Passcode</td>\n",
       "      <td>I have forgotten my central dispatch code. How...</td>\n",
       "      <td>['I have forgotten my central dispatch code. H...</td>\n",
       "    </tr>\n",
       "  </tbody>\n",
       "</table>\n",
       "</div>"
      ],
      "text/plain": [
       "   Unnamed: 0      id                       Cluster_x  \\\n",
       "0           0  702106                    Alarm_Issues   \n",
       "1           1  702125                   Keypad_Issues   \n",
       "2           2  702381                   Keypad_Issues   \n",
       "3           3  702408  Password_Reset/Forget_Password   \n",
       "4           4  702971  Password_Reset/Forget_Password   \n",
       "\n",
       "                       Subcluster  \\\n",
       "0                          Others   \n",
       "1               Entry_delay_Alert   \n",
       "2                             NaN   \n",
       "3             Manage_keypad_Codes   \n",
       "4  Reset_Central_Station_Passcode   \n",
       "\n",
       "                                               issue  \\\n",
       "0  my lights is out not cut off is my alarm still...   \n",
       "1  several times in the last couple of weeks I ha...   \n",
       "2  My alarm key pad is not working and I am scare...   \n",
       "3  how do I set a temporary code to give to a dog...   \n",
       "4  I have forgotten my central dispatch code. How...   \n",
       "\n",
       "                                           full_chat  \n",
       "0  ['my lights is out not cut off is my alarm sti...  \n",
       "1  ['several times in the last couple of weeks I ...  \n",
       "2  ['My alarm key pad is not working and I am sca...  \n",
       "3  ['how do I set a temporary code to give to a d...  \n",
       "4  ['I have forgotten my central dispatch code. H...  "
      ]
     },
     "execution_count": 365,
     "metadata": {},
     "output_type": "execute_result"
    }
   ],
   "source": [
    "data.head()"
   ]
  },
  {
   "cell_type": "markdown",
   "metadata": {},
   "source": [
    "# Model building for main labels"
   ]
  },
  {
   "cell_type": "code",
   "execution_count": 344,
   "metadata": {},
   "outputs": [],
   "source": [
    "wordnet_lemmatizer = WordNetLemmatizer()\n",
    "porter=PorterStemmer()\n",
    "stop_words = stopwords.words('english')\n",
    "\n",
    "def lemmatize(sentence):\n",
    "    return ' '.join([lemma.lemmatize(word, 'v') for word in sentence.split(\" \")])\n",
    "                    \n",
    "def clean(line):\n",
    "    line = re.sub(r'[?,\",:,.,/,!]', ' ', line)\n",
    "    line = re.sub('[$]', 'Replaceddollar ', line)\n",
    "    line= re.sub(\"[^a-zA-Z]\", ' ', line)\n",
    "    line=[i.lower() for i in line.split(' ') if i.lower() not in stop_words]  # Removing the stopwords excluding few neg words\n",
    "    line=[wordnet_lemmatizer.lemmatize(i.lower(),pos=\"a\") for i in line]\n",
    "    line=[wordnet_lemmatizer.lemmatize(i.lower(),pos=\"n\") for i in line]\n",
    "    line=[wordnet_lemmatizer.lemmatize(i.lower(),pos=\"r\") for i in line]\n",
    "    line=[wordnet_lemmatizer.lemmatize(i.lower(),pos=\"v\") for i in line]\n",
    "    \n",
    "    line=\" \".join([porter.stem(j) for j in line if len(j)>1 and (j.isnumeric() is False)])\n",
    "    line = re.sub('  +', ' ', line) # Removing the extra spaces\n",
    "    return line.strip() #Returning the stripped sentence"
   ]
  },
  {
   "cell_type": "code",
   "execution_count": 48,
   "metadata": {},
   "outputs": [
    {
     "data": {
      "text/plain": [
       "Index(['Unnamed: 0', 'id', 'Cluster_x', 'Subcluster', 'issue', 'full_chat'], dtype='object')"
      ]
     },
     "execution_count": 48,
     "metadata": {},
     "output_type": "execute_result"
    }
   ],
   "source": [
    "data.columns"
   ]
  },
  {
   "cell_type": "code",
   "execution_count": 49,
   "metadata": {
    "collapsed": true
   },
   "outputs": [],
   "source": [
    "data['cleaned_text']=data['issue'].apply(lambda x: clean(x))"
   ]
  },
  {
   "cell_type": "code",
   "execution_count": 50,
   "metadata": {
    "collapsed": true
   },
   "outputs": [],
   "source": [
    "X_train,X_test,y_train,y_test=train_test_split(data['cleaned_text'], data['Cluster_x'])"
   ]
  },
  {
   "cell_type": "code",
   "execution_count": 51,
   "metadata": {},
   "outputs": [
    {
     "data": {
      "text/plain": [
       "Keypad_Issues                     884\n",
       "Password_Reset/Forget_Password    855\n",
       "Need_Security_Certificate         599\n",
       "Alarm_Issues                      142\n",
       "Name: Cluster_x, dtype: int64"
      ]
     },
     "execution_count": 51,
     "metadata": {},
     "output_type": "execute_result"
    }
   ],
   "source": [
    "data['Cluster_x'].value_counts()"
   ]
  },
  {
   "cell_type": "code",
   "execution_count": 52,
   "metadata": {},
   "outputs": [
    {
     "data": {
      "text/plain": [
       "TfidfVectorizer(encoding='latin-1', min_df=3, ngram_range=(1, 2),\n",
       "                stop_words='english', sublinear_tf=True)"
      ]
     },
     "execution_count": 52,
     "metadata": {},
     "output_type": "execute_result"
    }
   ],
   "source": [
    "from sklearn.feature_extraction.text import TfidfVectorizer\n",
    "# create the transform\n",
    "vectorizer = TfidfVectorizer(sublinear_tf=True, min_df=3, norm='l2', encoding='latin-1', ngram_range=(1, 2), stop_words='english')\n",
    "#vectorizer = TfidfVectorizer(ngram_range=(1,2))\n",
    "# tokenize and build vocab\n",
    "vectorizer.fit(X_train)"
   ]
  },
  {
   "cell_type": "code",
   "execution_count": 53,
   "metadata": {},
   "outputs": [
    {
     "data": {
      "text/plain": [
       "LinearSVC()"
      ]
     },
     "execution_count": 53,
     "metadata": {},
     "output_type": "execute_result"
    }
   ],
   "source": [
    "from sklearn.svm import LinearSVC\n",
    "lsvm=LinearSVC()\n",
    "lsvm.fit(vectorizer.transform(X_train),y_train)"
   ]
  },
  {
   "cell_type": "code",
   "execution_count": 54,
   "metadata": {
    "collapsed": true
   },
   "outputs": [],
   "source": [
    "y_pred=lsvm.predict(vectorizer.transform(X_test))"
   ]
  },
  {
   "cell_type": "code",
   "execution_count": 55,
   "metadata": {},
   "outputs": [
    {
     "data": {
      "text/plain": [
       "array([[ 21,  11,   0,   2],\n",
       "       [  4, 221,   0,   5],\n",
       "       [  0,   0, 139,   0],\n",
       "       [  3,   7,   0, 207]], dtype=int64)"
      ]
     },
     "execution_count": 55,
     "metadata": {},
     "output_type": "execute_result"
    }
   ],
   "source": [
    "confusion_matrix(y_test,y_pred)"
   ]
  },
  {
   "cell_type": "code",
   "execution_count": 57,
   "metadata": {},
   "outputs": [
    {
     "name": "stdout",
     "output_type": "stream",
     "text": [
      "                                precision    recall  f1-score   support\n",
      "\n",
      "                  Alarm_Issues       0.75      0.62      0.68        34\n",
      "                 Keypad_Issues       0.92      0.96      0.94       230\n",
      "     Need_Security_Certificate       1.00      1.00      1.00       139\n",
      "Password_Reset/Forget_Password       0.97      0.95      0.96       217\n",
      "\n",
      "                      accuracy                           0.95       620\n",
      "                     macro avg       0.91      0.88      0.90       620\n",
      "                  weighted avg       0.95      0.95      0.95       620\n",
      "\n"
     ]
    }
   ],
   "source": [
    "print(classification_report(y_test,y_pred))"
   ]
  },
  {
   "cell_type": "code",
   "execution_count": 32,
   "metadata": {},
   "outputs": [
    {
     "data": {
      "text/html": [
       "<div>\n",
       "<style>\n",
       "    .dataframe thead tr:only-child th {\n",
       "        text-align: right;\n",
       "    }\n",
       "\n",
       "    .dataframe thead th {\n",
       "        text-align: left;\n",
       "    }\n",
       "\n",
       "    .dataframe tbody tr th {\n",
       "        vertical-align: top;\n",
       "    }\n",
       "</style>\n",
       "<table border=\"1\" class=\"dataframe\">\n",
       "  <thead>\n",
       "    <tr style=\"text-align: right;\">\n",
       "      <th></th>\n",
       "      <th>Unnamed: 0</th>\n",
       "      <th>id</th>\n",
       "      <th>Cluster_x</th>\n",
       "      <th>Subcluster</th>\n",
       "      <th>issue</th>\n",
       "      <th>full_chat</th>\n",
       "      <th>cleaned_text</th>\n",
       "    </tr>\n",
       "  </thead>\n",
       "  <tbody>\n",
       "    <tr>\n",
       "      <th>0</th>\n",
       "      <td>0</td>\n",
       "      <td>702106</td>\n",
       "      <td>Alarm_Issues</td>\n",
       "      <td>Others</td>\n",
       "      <td>my lights is out not cut off is my alarm still...</td>\n",
       "      <td>['my lights is out not cut off is my alarm sti...</td>\n",
       "      <td>light cut alarm still work</td>\n",
       "    </tr>\n",
       "    <tr>\n",
       "      <th>1</th>\n",
       "      <td>1</td>\n",
       "      <td>702125</td>\n",
       "      <td>Keypad_Issues</td>\n",
       "      <td>Entry_delay_Alert</td>\n",
       "      <td>several times in the last couple of weeks I ha...</td>\n",
       "      <td>['several times in the last couple of weeks I ...</td>\n",
       "      <td>sever time last coupl week disarm system main ...</td>\n",
       "    </tr>\n",
       "    <tr>\n",
       "      <th>2</th>\n",
       "      <td>2</td>\n",
       "      <td>702381</td>\n",
       "      <td>Keypad_Issues</td>\n",
       "      <td>NaN</td>\n",
       "      <td>My alarm key pad is not working and I am scare...</td>\n",
       "      <td>['My alarm key pad is not working and I am sca...</td>\n",
       "      <td>alarm key pad work scar night</td>\n",
       "    </tr>\n",
       "    <tr>\n",
       "      <th>3</th>\n",
       "      <td>3</td>\n",
       "      <td>702408</td>\n",
       "      <td>Password_Reset/Forget_Password</td>\n",
       "      <td>Manage_keypad_Codes</td>\n",
       "      <td>how do I set a temporary code to give to a dog...</td>\n",
       "      <td>['how do I set a temporary code to give to a d...</td>\n",
       "      <td>set temporari code give dog sitter weekend</td>\n",
       "    </tr>\n",
       "    <tr>\n",
       "      <th>4</th>\n",
       "      <td>4</td>\n",
       "      <td>702971</td>\n",
       "      <td>Password_Reset/Forget_Password</td>\n",
       "      <td>Reset_Central_Station_Passcode</td>\n",
       "      <td>I have forgotten my central dispatch code. How...</td>\n",
       "      <td>['I have forgotten my central dispatch code. H...</td>\n",
       "      <td>forget central dispatch code reset</td>\n",
       "    </tr>\n",
       "  </tbody>\n",
       "</table>\n",
       "</div>"
      ],
      "text/plain": [
       "   Unnamed: 0      id                       Cluster_x  \\\n",
       "0           0  702106                    Alarm_Issues   \n",
       "1           1  702125                   Keypad_Issues   \n",
       "2           2  702381                   Keypad_Issues   \n",
       "3           3  702408  Password_Reset/Forget_Password   \n",
       "4           4  702971  Password_Reset/Forget_Password   \n",
       "\n",
       "                       Subcluster  \\\n",
       "0                          Others   \n",
       "1               Entry_delay_Alert   \n",
       "2                             NaN   \n",
       "3             Manage_keypad_Codes   \n",
       "4  Reset_Central_Station_Passcode   \n",
       "\n",
       "                                               issue  \\\n",
       "0  my lights is out not cut off is my alarm still...   \n",
       "1  several times in the last couple of weeks I ha...   \n",
       "2  My alarm key pad is not working and I am scare...   \n",
       "3  how do I set a temporary code to give to a dog...   \n",
       "4  I have forgotten my central dispatch code. How...   \n",
       "\n",
       "                                           full_chat  \\\n",
       "0  ['my lights is out not cut off is my alarm sti...   \n",
       "1  ['several times in the last couple of weeks I ...   \n",
       "2  ['My alarm key pad is not working and I am sca...   \n",
       "3  ['how do I set a temporary code to give to a d...   \n",
       "4  ['I have forgotten my central dispatch code. H...   \n",
       "\n",
       "                                        cleaned_text  \n",
       "0                         light cut alarm still work  \n",
       "1  sever time last coupl week disarm system main ...  \n",
       "2                      alarm key pad work scar night  \n",
       "3         set temporari code give dog sitter weekend  \n",
       "4                 forget central dispatch code reset  "
      ]
     },
     "execution_count": 32,
     "metadata": {},
     "output_type": "execute_result"
    }
   ],
   "source": [
    "data.head()"
   ]
  },
  {
   "cell_type": "markdown",
   "metadata": {},
   "source": [
    "# Model Bulding for Sub-labels"
   ]
  },
  {
   "cell_type": "code",
   "execution_count": 368,
   "metadata": {},
   "outputs": [],
   "source": [
    "data['full_chat1']=data['full_chat'].apply(lambda x: ''.join(eval(x)))"
   ]
  },
  {
   "cell_type": "code",
   "execution_count": 370,
   "metadata": {},
   "outputs": [
    {
     "data": {
      "text/plain": [
       "\"my lights is out not cut off is my alarm still workingXfinity Home Guide:Bot StartedIf you're having an emergency right now, please call 911. Dial 911 to stop a crime, report a fire, or save a life.\\n\\nWhat would you like more information on?Alarm in ProgressIf you're having an emergency right now, please call 911. Dial 911 to stop a crime, report a fire, or save a life.Thanks for contacting us!  It's been a while since we last heard from you.  We will be here to support you if you can chat with us again in the future.Bot Ended\""
      ]
     },
     "execution_count": 370,
     "metadata": {},
     "output_type": "execute_result"
    }
   ],
   "source": [
    "data['full_chat1'][0]"
   ]
  },
  {
   "cell_type": "code",
   "execution_count": 371,
   "metadata": {
    "collapsed": true
   },
   "outputs": [],
   "source": [
    "training_data=data[pd.notnull(data['Subcluster'])]\n",
    "test_data=data[pd.isnull(data['Subcluster'])]"
   ]
  },
  {
   "cell_type": "code",
   "execution_count": 372,
   "metadata": {},
   "outputs": [
    {
     "data": {
      "text/plain": [
       "(1329, 7)"
      ]
     },
     "execution_count": 372,
     "metadata": {},
     "output_type": "execute_result"
    }
   ],
   "source": [
    "training_data.shape"
   ]
  },
  {
   "cell_type": "code",
   "execution_count": 373,
   "metadata": {},
   "outputs": [
    {
     "data": {
      "text/plain": [
       "(1154, 7)"
      ]
     },
     "execution_count": 373,
     "metadata": {},
     "output_type": "execute_result"
    }
   ],
   "source": [
    "test_data.shape"
   ]
  },
  {
   "cell_type": "code",
   "execution_count": 497,
   "metadata": {},
   "outputs": [],
   "source": [
    "stop_sentences=[\"Xfinity Home Guide\",\n",
    "                \"Bot Started\",\n",
    "                \"If you're having an emergency right now\",\n",
    "                \"please call 911\",\n",
    "                \"Dial 911 to stop a crime\",\n",
    "                \"report a fire\",\n",
    "                \"or save a life\",\n",
    "                \"Thanks for contacting us\",\n",
    "#                 \"Confirm your Xfinity Home system is disarmed\",\n",
    "#                 \"Working on devices while the system is armed can generate false alarms\",\n",
    "#                 \"Remove the Keypad from the wall by sliding upwards until it comes free of the mounting bracket\",\n",
    "#                 \"Removing Keypad from the mounting bracket will trigger a Tamper warning on the Touchscreen Controller\",\n",
    "#                 \"This will go away once the Keypad is put back on the mounting bracket\",\n",
    "#                 \"Remove and replace the batteries\",\n",
    "#                 \"Replace the Keypad on the mounting bracket\",\n",
    "#                 \"At this time, the Tamper warning disappears\",\n",
    "#                 \"Arm the system\",\n",
    "                \"Did that resolve your issue\",\n",
    "                \"No, connect to a specialist\",\n",
    "                \"We will be here to support you if you can chat with us again in the future\",\n",
    "                \"Bot Ended\",\n",
    "                \"It's been a while since we last heard from you\",\n",
    "                \"You can initiate a new chat anytime during our chat hours (7am - 2am EDT)\",\n",
    "                \"It seems like you are busy at this time\"\n",
    "               \"Please acknowledge my last message\",\"please call us at 1-800-XFINITY (1-800-934-6489)\",\n",
    "                \"We will be here to support you if you can chat with us again in the future\",\n",
    "                \"visit support.xfinity.com/chat for live agent support at any time\",\n",
    "                \"If you need help outside of our chat business hours (7am -2am)\",\n",
    "                \"It's been an hour since we last heard from you\", \"we will save & close this chat\",\n",
    "                \"Thank you for choosing XFINITY\",\n",
    "                \"It was my pleasure to assist you today\",\n",
    "                \"Awesome\",\"I apologize for the wait time in queue\",\n",
    "                \"You are most welcome\",\n",
    "                \"When you have a moment, please ensure your Emergency Contact information is up to date\",\n",
    "                \"You can review and update these from the Xfinity Home mobile app and Subscriber Portal\",\n",
    "                \"https://www.xfinity.com/support/home-security/add-change-emergency-contact-mobile-app\",\n",
    "                \"https://www.xfinity.com/support/articles/manage-emergency-dispatch-contacts\",\n",
    "                \"You have been great\",\n",
    "                \"Before we connect you to a specialist\",\n",
    "                \"Let me quickly help you in this concern\",\n",
    "                \"All of our specialists are currently busy and will chat with you shortly\",\n",
    "                \"Please make sure you have push notifications enabled to see your specialist's reply\",\"I apologize for the inconvenience\",\n",
    "                \"We value your business as a customer\", \"Have a great day ahead\",\"Accepted the solution\",\"Good Afternoon\",\"Good Morning\",\n",
    "                \"It was a pleasure to help\",\"May I have your complete name\",\"May I have your good name\",\"May I have your full name\",\n",
    "                \"Are we good so far\",\"What would you like more information on\",\"I hope you are doing good\",\"Please be assured I will surely help you with this\",\n",
    "               \"Keypad codes are used to access the Xfinity Home Security System while the Central Station passcode is a security feature that allows you to identify yourself or someone you trust to the Central Monitoring Station in the event of an alarm\",\n",
    "               \"Connect to a specialist\",\"sure\",\"You're welcome\",\"You are welcome\",\"got it\",'thanks',\"Maintaining these is important in the event that an alarm occurs\",\n",
    "               \"Thank you\",\"thanks a lot\",\"I appreciate your efforts and patience\",\"I appreciate your cooperation and patience throughout the chat\",\n",
    "               \"Have a great day\",\"Hi\",\"Hello\",\"bye\"]\n",
    "stop_sentences=[i.lower() for i in stop_sentences]"
   ]
  },
  {
   "cell_type": "code",
   "execution_count": 409,
   "metadata": {
    "collapsed": true
   },
   "outputs": [],
   "source": [
    "# Taking all chat info"
   ]
  },
  {
   "cell_type": "code",
   "execution_count": 410,
   "metadata": {
    "collapsed": true
   },
   "outputs": [],
   "source": [
    "def remove_sentences(x):\n",
    "    for i in stop_sentences:\n",
    "        x=x.replace(i,\"\")\n",
    "    return x    "
   ]
  },
  {
   "cell_type": "code",
   "execution_count": 411,
   "metadata": {},
   "outputs": [
    {
     "name": "stderr",
     "output_type": "stream",
     "text": [
      "C:\\ProgramData\\Anaconda3\\lib\\site-packages\\ipykernel_launcher.py:1: SettingWithCopyWarning: \n",
      "A value is trying to be set on a copy of a slice from a DataFrame.\n",
      "Try using .loc[row_indexer,col_indexer] = value instead\n",
      "\n",
      "See the caveats in the documentation: http://pandas.pydata.org/pandas-docs/stable/indexing.html#indexing-view-versus-copy\n",
      "  \"\"\"Entry point for launching an IPython kernel.\n"
     ]
    }
   ],
   "source": [
    "training_data['full_chat2']=training_data['full_chat1'].apply(lambda x: remove_sentences(x))"
   ]
  },
  {
   "cell_type": "code",
   "execution_count": 412,
   "metadata": {},
   "outputs": [
    {
     "name": "stderr",
     "output_type": "stream",
     "text": [
      "C:\\ProgramData\\Anaconda3\\lib\\site-packages\\ipykernel_launcher.py:1: SettingWithCopyWarning: \n",
      "A value is trying to be set on a copy of a slice from a DataFrame.\n",
      "Try using .loc[row_indexer,col_indexer] = value instead\n",
      "\n",
      "See the caveats in the documentation: http://pandas.pydata.org/pandas-docs/stable/indexing.html#indexing-view-versus-copy\n",
      "  \"\"\"Entry point for launching an IPython kernel.\n"
     ]
    }
   ],
   "source": [
    "training_data['Subcluster']=training_data['Subcluster'].apply(lambda x: x.lower())"
   ]
  },
  {
   "cell_type": "code",
   "execution_count": 413,
   "metadata": {},
   "outputs": [
    {
     "name": "stderr",
     "output_type": "stream",
     "text": [
      "C:\\ProgramData\\Anaconda3\\lib\\site-packages\\ipykernel_launcher.py:1: SettingWithCopyWarning: \n",
      "A value is trying to be set on a copy of a slice from a DataFrame.\n",
      "Try using .loc[row_indexer,col_indexer] = value instead\n",
      "\n",
      "See the caveats in the documentation: http://pandas.pydata.org/pandas-docs/stable/indexing.html#indexing-view-versus-copy\n",
      "  \"\"\"Entry point for launching an IPython kernel.\n"
     ]
    }
   ],
   "source": [
    "training_data['cleaned_full_text']=training_data['full_chat2'].apply(lambda x: clean(x))"
   ]
  },
  {
   "cell_type": "code",
   "execution_count": 427,
   "metadata": {},
   "outputs": [],
   "source": [
    "#new_bat=training_data[training_data['Subcluster']==\"new_bat_not_working\"].index.tolist()"
   ]
  },
  {
   "cell_type": "code",
   "execution_count": 456,
   "metadata": {},
   "outputs": [],
   "source": [
    "#train_new_bat=new_bat[int(len(new_bat)/2):]"
   ]
  },
  {
   "cell_type": "code",
   "execution_count": 457,
   "metadata": {},
   "outputs": [
    {
     "data": {
      "text/plain": [
       "[2016, 2080, 2146, 2161, 2285, 2291, 2365]"
      ]
     },
     "execution_count": 457,
     "metadata": {},
     "output_type": "execute_result"
    }
   ],
   "source": [
    "#train_new_bat"
   ]
  },
  {
   "cell_type": "code",
   "execution_count": 458,
   "metadata": {
    "collapsed": true
   },
   "outputs": [],
   "source": [
    "#test_new_bat=new_bat[:int(len(new_bat)/2)]"
   ]
  },
  {
   "cell_type": "code",
   "execution_count": 459,
   "metadata": {},
   "outputs": [
    {
     "data": {
      "text/plain": [
       "[574, 1519, 1529, 1817, 1925, 1946, 2011]"
      ]
     },
     "execution_count": 459,
     "metadata": {},
     "output_type": "execute_result"
    }
   ],
   "source": [
    "#test_new_bat"
   ]
  },
  {
   "cell_type": "code",
   "execution_count": 480,
   "metadata": {},
   "outputs": [],
   "source": [
    "#training_data1=training_data[training_data.index.isin(new_bat)==False]"
   ]
  },
  {
   "cell_type": "code",
   "execution_count": 481,
   "metadata": {},
   "outputs": [
    {
     "data": {
      "text/plain": [
       "security_alarm_certificate        563\n",
       "reset_master_code                 185\n",
       "entry_delay_alert                  93\n",
       "others                             88\n",
       "reset_central_station_passcode     80\n",
       "manage_keypad_codes                51\n",
       "false_alarm                        38\n",
       "arming/disarming                   34\n",
       "keypad_pairing                     30\n",
       "reset_keypad                       26\n",
       "keypad_troubleshooting             24\n",
       "reset_home_app_password            16\n",
       "keypad_cont_blinking               15\n",
       "comm_falure_alert                  14\n",
       "entry_exit_delay_setting           12\n",
       "panic_button_feature               11\n",
       "new_keypad_enquiry                 11\n",
       "low_bat_alert                       8\n",
       "tamper_alert                        8\n",
       "reset_secret_question               6\n",
       "norton_subscription                 2\n",
       "Name: Subcluster, dtype: int64"
      ]
     },
     "execution_count": 481,
     "metadata": {},
     "output_type": "execute_result"
    }
   ],
   "source": [
    "training_data['Subcluster'].value_counts()"
   ]
  },
  {
   "cell_type": "code",
   "execution_count": 498,
   "metadata": {},
   "outputs": [],
   "source": [
    "X_train,X_test,y_train,y_test=train_test_split(training_data['cleaned_full_text'], training_data['Subcluster'],stratify=training_data['Subcluster'],random_state=2,test_size=0.15)"
   ]
  },
  {
   "cell_type": "code",
   "execution_count": 486,
   "metadata": {},
   "outputs": [],
   "source": [
    "#a=X_train.append(training_data[training_data.index.isin(train_new_bat)]['cleaned_full_text'])"
   ]
  },
  {
   "cell_type": "code",
   "execution_count": 487,
   "metadata": {
    "collapsed": true
   },
   "outputs": [],
   "source": [
    "#y=y_train.append(training_data[training_data.index.isin(train_new_bat)]['Subcluster'])"
   ]
  },
  {
   "cell_type": "code",
   "execution_count": 499,
   "metadata": {},
   "outputs": [
    {
     "data": {
      "text/plain": [
       "TfidfVectorizer(encoding='latin-1', min_df=3, ngram_range=(1, 2),\n",
       "                stop_words='english', sublinear_tf=True)"
      ]
     },
     "execution_count": 499,
     "metadata": {},
     "output_type": "execute_result"
    }
   ],
   "source": [
    "from sklearn.feature_extraction.text import TfidfVectorizer\n",
    "# create the transform\n",
    "vectorizer = TfidfVectorizer(sublinear_tf=True, min_df=3, norm='l2', encoding='latin-1', ngram_range=(1, 2), stop_words='english')\n",
    "#vectorizer = TfidfVectorizer(ngram_range=(1,2))\n",
    "# tokenize and build vocab\n",
    "vectorizer.fit(X_train)"
   ]
  },
  {
   "cell_type": "code",
   "execution_count": 500,
   "metadata": {},
   "outputs": [
    {
     "data": {
      "text/plain": [
       "LinearSVC()"
      ]
     },
     "execution_count": 500,
     "metadata": {},
     "output_type": "execute_result"
    }
   ],
   "source": [
    "lsvc=LinearSVC()\n",
    "lsvc.fit(vectorizer.transform(X_train),y_train)"
   ]
  },
  {
   "cell_type": "code",
   "execution_count": 492,
   "metadata": {
    "collapsed": true
   },
   "outputs": [],
   "source": [
    "#b=X_test.append(training_data[training_data.index.isin(test_new_bat)]['cleaned_full_text'])"
   ]
  },
  {
   "cell_type": "code",
   "execution_count": 493,
   "metadata": {
    "collapsed": true
   },
   "outputs": [],
   "source": [
    "#y1=y_test.append(training_data[training_data.index.isin(test_new_bat)]['Subcluster'])"
   ]
  },
  {
   "cell_type": "code",
   "execution_count": 501,
   "metadata": {},
   "outputs": [],
   "source": [
    "y_pred=lsvc.predict(vectorizer.transform(X_test))"
   ]
  },
  {
   "cell_type": "code",
   "execution_count": 502,
   "metadata": {},
   "outputs": [
    {
     "data": {
      "text/plain": [
       "array([[ 3,  0,  0,  0,  0,  0,  0,  1,  0,  0,  0,  0,  1,  0,  0,  0,\n",
       "         0,  0,  0,  0,  0],\n",
       "       [ 0,  0,  0,  0,  0,  0,  1,  0,  0,  0,  1,  0,  0,  0,  0,  0,\n",
       "         0,  0,  0,  0,  0],\n",
       "       [ 0,  0, 14,  0,  0,  0,  0,  0,  0,  0,  0,  0,  0,  0,  0,  0,\n",
       "         0,  0,  0,  0,  0],\n",
       "       [ 0,  0,  0,  1,  1,  0,  0,  0,  0,  0,  0,  0,  0,  0,  0,  0,\n",
       "         0,  0,  0,  0,  0],\n",
       "       [ 0,  0,  0,  0,  4,  0,  0,  0,  0,  0,  0,  0,  2,  0,  0,  0,\n",
       "         0,  0,  0,  0,  0],\n",
       "       [ 0,  0,  0,  0,  0,  2,  0,  0,  0,  0,  0,  0,  0,  0,  0,  0,\n",
       "         0,  0,  0,  0,  0],\n",
       "       [ 0,  0,  0,  0,  0,  0,  2,  0,  0,  0,  0,  0,  2,  0,  0,  0,\n",
       "         0,  0,  0,  0,  0],\n",
       "       [ 0,  0,  1,  0,  0,  0,  1,  2,  0,  0,  0,  0,  0,  0,  0,  0,\n",
       "         0,  0,  0,  0,  0],\n",
       "       [ 0,  0,  0,  0,  0,  0,  0,  0,  1,  0,  0,  0,  0,  0,  0,  0,\n",
       "         0,  0,  0,  0,  0],\n",
       "       [ 0,  0,  0,  0,  0,  0,  0,  0,  0,  6,  0,  0,  0,  0,  0,  0,\n",
       "         0,  2,  0,  0,  0],\n",
       "       [ 1,  0,  0,  0,  0,  0,  1,  0,  0,  0,  0,  0,  0,  0,  0,  0,\n",
       "         0,  0,  0,  0,  0],\n",
       "       [ 0,  0,  0,  0,  0,  0,  0,  0,  0,  0,  0,  2,  0,  0,  0,  0,\n",
       "         0,  0,  0,  0,  0],\n",
       "       [ 1,  0,  0,  0,  0,  0,  0,  0,  0,  0,  0,  0, 10,  1,  0,  0,\n",
       "         0,  1,  0,  0,  0],\n",
       "       [ 0,  0,  0,  0,  0,  0,  0,  0,  0,  0,  0,  0,  1,  1,  0,  0,\n",
       "         0,  0,  0,  0,  0],\n",
       "       [ 0,  0,  0,  0,  0,  0,  0,  0,  0,  0,  0,  0,  0,  0, 11,  0,\n",
       "         0,  1,  0,  0,  0],\n",
       "       [ 0,  0,  0,  0,  0,  0,  0,  0,  0,  0,  0,  0,  0,  0,  0,  2,\n",
       "         0,  0,  0,  0,  0],\n",
       "       [ 0,  0,  1,  0,  0,  0,  0,  0,  0,  0,  0,  0,  1,  0,  0,  0,\n",
       "         2,  0,  0,  0,  0],\n",
       "       [ 0,  0,  0,  0,  0,  0,  0,  0,  0,  0,  0,  0,  0,  0,  1,  0,\n",
       "         0, 27,  0,  0,  0],\n",
       "       [ 0,  0,  0,  0,  0,  0,  0,  0,  0,  0,  0,  0,  0,  0,  0,  0,\n",
       "         0,  0,  1,  0,  0],\n",
       "       [ 0,  0,  0,  0,  0,  0,  0,  0,  0,  0,  0,  0,  0,  0,  0,  0,\n",
       "         0,  0,  0, 85,  0],\n",
       "       [ 0,  0,  0,  0,  0,  0,  0,  0,  0,  0,  0,  0,  0,  0,  0,  0,\n",
       "         0,  0,  0,  0,  1]], dtype=int64)"
      ]
     },
     "execution_count": 502,
     "metadata": {},
     "output_type": "execute_result"
    }
   ],
   "source": [
    "confusion_matrix(y_test,y_pred)"
   ]
  },
  {
   "cell_type": "code",
   "execution_count": 503,
   "metadata": {},
   "outputs": [
    {
     "name": "stdout",
     "output_type": "stream",
     "text": [
      "                                precision    recall  f1-score   support\n",
      "\n",
      "              arming/disarming       0.60      0.60      0.60         5\n",
      "             comm_falure_alert       0.00      0.00      0.00         2\n",
      "             entry_delay_alert       0.88      1.00      0.93        14\n",
      "      entry_exit_delay_setting       1.00      0.50      0.67         2\n",
      "                   false_alarm       0.80      0.67      0.73         6\n",
      "          keypad_cont_blinking       1.00      1.00      1.00         2\n",
      "                keypad_pairing       0.40      0.50      0.44         4\n",
      "        keypad_troubleshooting       0.67      0.50      0.57         4\n",
      "                 low_bat_alert       1.00      1.00      1.00         1\n",
      "           manage_keypad_codes       1.00      0.75      0.86         8\n",
      "           new_bat_not_working       0.00      0.00      0.00         2\n",
      "            new_keypad_enquiry       1.00      1.00      1.00         2\n",
      "                        others       0.59      0.77      0.67        13\n",
      "          panic_button_feature       0.50      0.50      0.50         2\n",
      "reset_central_station_passcode       0.92      0.92      0.92        12\n",
      "       reset_home_app_password       1.00      1.00      1.00         2\n",
      "                  reset_keypad       1.00      0.50      0.67         4\n",
      "             reset_master_code       0.87      0.96      0.92        28\n",
      "         reset_secret_question       1.00      1.00      1.00         1\n",
      "    security_alarm_certificate       1.00      1.00      1.00        85\n",
      "                  tamper_alert       1.00      1.00      1.00         1\n",
      "\n",
      "                      accuracy                           0.89       200\n",
      "                     macro avg       0.77      0.72      0.74       200\n",
      "                  weighted avg       0.88      0.89      0.88       200\n",
      "\n"
     ]
    },
    {
     "name": "stderr",
     "output_type": "stream",
     "text": [
      "C:\\ProgramData\\Anaconda3\\lib\\site-packages\\sklearn\\metrics\\_classification.py:1221: UndefinedMetricWarning: Precision and F-score are ill-defined and being set to 0.0 in labels with no predicted samples. Use `zero_division` parameter to control this behavior.\n",
      "  _warn_prf(average, modifier, msg_start, len(result))\n"
     ]
    }
   ],
   "source": [
    "print(classification_report(y_test,y_pred))"
   ]
  },
  {
   "cell_type": "code",
   "execution_count": null,
   "metadata": {
    "collapsed": true
   },
   "outputs": [],
   "source": [
    "\"Take out the batteries from affected Keypad\",\n",
    "\"Click on Gear Icon on top right of touchscreen\",\n",
    "\"Click on device option\",\n",
    "\"Enter 4321 when asked for their Master Keypad Code\",\n",
    "\"Please make sure you are entering 4321 only, not your own master code\",\n",
    "\"Passphrase is\",\n",
    "\"It will be valid for 24 hours\""
   ]
  }
 ],
 "metadata": {
  "kernelspec": {
   "display_name": "Python 3",
   "language": "python",
   "name": "python3"
  },
  "language_info": {
   "codemirror_mode": {
    "name": "ipython",
    "version": 3
   },
   "file_extension": ".py",
   "mimetype": "text/x-python",
   "name": "python",
   "nbconvert_exporter": "python",
   "pygments_lexer": "ipython3",
   "version": "3.6.8"
  }
 },
 "nbformat": 4,
 "nbformat_minor": 2
}
