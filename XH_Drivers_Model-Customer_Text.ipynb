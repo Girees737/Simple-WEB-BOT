{
 "cells": [
  {
   "cell_type": "code",
   "execution_count": 411,
   "metadata": {},
   "outputs": [],
   "source": [
    "import pandas as pd\n",
    "import pickle\n",
    "from sklearn.utils import resample\n",
    "import string\n",
    "from nltk.stem import WordNetLemmatizer\n",
    "import spacy\n",
    "import re\n",
    "import os\n",
    "import nltk\n",
    "import numpy as np\n",
    "import itertools\n",
    "from sklearn.utils import resample\n",
    "from sklearn.metrics import classification_report\n",
    "lemma = nltk.WordNetLemmatizer()\n",
    "from nltk.stem import PorterStemmer\n",
    "from sklearn.model_selection import train_test_split\n",
    "from sklearn.linear_model import SGDClassifier\n",
    "from sklearn.pipeline import Pipeline\n",
    "import math as mt\n",
    "from nltk.corpus import stopwords\n",
    "from sklearn.feature_extraction.text import CountVectorizer\n",
    "from sklearn.metrics import accuracy_score, confusion_matrix,classification_report\n",
    "import matplotlib.pyplot as plt\n",
    "import seaborn as sns\n",
    "from sklearn.cluster import KMeans\n",
    "import re\n",
    "import string\n",
    "import numpy as np\n",
    "from sklearn import metrics\n",
    "from scipy.spatial.distance import cdist"
   ]
  },
  {
   "cell_type": "code",
   "execution_count": 412,
   "metadata": {},
   "outputs": [],
   "source": [
    "data=pd.read_excel('C:\\\\Users\\\\gireesh.muppalla\\\\Downloads\\\\detail_user_count.xlsx',sheet_name='Sheet1')\n",
    "data.dropna(subset=['id'],inplace=True)\n",
    "data1=pd.read_excel('C:\\\\Users\\\\gireesh.muppalla\\\\Desktop\\\\FInal_post_correction.xlsx',sheet_name='XH_chat_final (003)')\n",
    "data1.dropna(subset=['id'],inplace=True)"
   ]
  },
  {
   "cell_type": "code",
   "execution_count": 413,
   "metadata": {},
   "outputs": [],
   "source": [
    "# data2=pd.read_excel('C:\\\\Users\\\\gireesh.muppalla\\\\Downloads\\\\detail_user_count1.xlsx',sheet_name='with_out_agent_involvement')\n",
    "# data2.dropna(subset=['id'],inplace=True)\n",
    "data3=pd.read_excel('C:\\\\Users\\\\gireesh.muppalla\\\\Downloads\\\\XH Accounts_Region and Division.xlsx',sheet_name='Account Mappings')\n",
    "data3.dropna(subset=['XH Issue ID'],inplace=True)\n",
    "\n",
    "data2=pd.read_csv('C:\\\\Users\\\\gireesh.muppalla\\\\Downloads\\\\agent_info.csv')"
   ]
  },
  {
   "cell_type": "code",
   "execution_count": 414,
   "metadata": {},
   "outputs": [
    {
     "data": {
      "text/html": [
       "<div>\n",
       "<style scoped>\n",
       "    .dataframe tbody tr th:only-of-type {\n",
       "        vertical-align: middle;\n",
       "    }\n",
       "\n",
       "    .dataframe tbody tr th {\n",
       "        vertical-align: top;\n",
       "    }\n",
       "\n",
       "    .dataframe thead th {\n",
       "        text-align: right;\n",
       "    }\n",
       "</style>\n",
       "<table border=\"1\" class=\"dataframe\">\n",
       "  <thead>\n",
       "    <tr style=\"text-align: right;\">\n",
       "      <th></th>\n",
       "      <th>Unnamed: 0</th>\n",
       "      <th>id</th>\n",
       "      <th>if_agent_involved</th>\n",
       "      <th>no_of_agents_involved</th>\n",
       "      <th>users</th>\n",
       "    </tr>\n",
       "  </thead>\n",
       "  <tbody>\n",
       "    <tr>\n",
       "      <th>0</th>\n",
       "      <td>1039</td>\n",
       "      <td>800291</td>\n",
       "      <td>1</td>\n",
       "      <td>4</td>\n",
       "      <td>['Anabel &amp; Joe Villarreal', 'Automations', 'Fi...</td>\n",
       "    </tr>\n",
       "    <tr>\n",
       "      <th>1</th>\n",
       "      <td>377</td>\n",
       "      <td>827430</td>\n",
       "      <td>1</td>\n",
       "      <td>4</td>\n",
       "      <td>['LETTICIA LOPEZ', 'Automations', 'Final - Ala...</td>\n",
       "    </tr>\n",
       "    <tr>\n",
       "      <th>2</th>\n",
       "      <td>1522</td>\n",
       "      <td>763700</td>\n",
       "      <td>1</td>\n",
       "      <td>3</td>\n",
       "      <td>['BEVERLY BROWN', 'Automations', 'Final - Alar...</td>\n",
       "    </tr>\n",
       "    <tr>\n",
       "      <th>3</th>\n",
       "      <td>450</td>\n",
       "      <td>831445</td>\n",
       "      <td>1</td>\n",
       "      <td>3</td>\n",
       "      <td>['LARRY AKIN', 'Automations', 'Final - Alarm P...</td>\n",
       "    </tr>\n",
       "    <tr>\n",
       "      <th>4</th>\n",
       "      <td>1806</td>\n",
       "      <td>745462</td>\n",
       "      <td>1</td>\n",
       "      <td>3</td>\n",
       "      <td>['DANIEL MAYE', 'Automations', 'Final - Alarm ...</td>\n",
       "    </tr>\n",
       "  </tbody>\n",
       "</table>\n",
       "</div>"
      ],
      "text/plain": [
       "   Unnamed: 0      id  if_agent_involved  no_of_agents_involved  \\\n",
       "0        1039  800291                  1                      4   \n",
       "1         377  827430                  1                      4   \n",
       "2        1522  763700                  1                      3   \n",
       "3         450  831445                  1                      3   \n",
       "4        1806  745462                  1                      3   \n",
       "\n",
       "                                               users  \n",
       "0  ['Anabel & Joe Villarreal', 'Automations', 'Fi...  \n",
       "1  ['LETTICIA LOPEZ', 'Automations', 'Final - Ala...  \n",
       "2  ['BEVERLY BROWN', 'Automations', 'Final - Alar...  \n",
       "3  ['LARRY AKIN', 'Automations', 'Final - Alarm P...  \n",
       "4  ['DANIEL MAYE', 'Automations', 'Final - Alarm ...  "
      ]
     },
     "execution_count": 414,
     "metadata": {},
     "output_type": "execute_result"
    }
   ],
   "source": [
    "data2.head()"
   ]
  },
  {
   "cell_type": "code",
   "execution_count": 290,
   "metadata": {},
   "outputs": [],
   "source": [
    "#data2=data2[['id','agent_involved','if_bot_involved','num_of_users']].drop_duplicates()"
   ]
  },
  {
   "cell_type": "code",
   "execution_count": 415,
   "metadata": {},
   "outputs": [
    {
     "data": {
      "text/plain": [
       "Index(['Unnamed: 0', 'id', 'if_agent_involved', 'no_of_agents_involved',\n",
       "       'users'],\n",
       "      dtype='object')"
      ]
     },
     "execution_count": 415,
     "metadata": {},
     "output_type": "execute_result"
    }
   ],
   "source": [
    "data2.columns"
   ]
  },
  {
   "cell_type": "code",
   "execution_count": 416,
   "metadata": {},
   "outputs": [],
   "source": [
    "data2.drop('Unnamed: 0',axis=1,inplace=True)"
   ]
  },
  {
   "cell_type": "code",
   "execution_count": 418,
   "metadata": {},
   "outputs": [],
   "source": [
    "data3.columns=['id','Account ID / User ID','Issue Title','Division','Region']"
   ]
  },
  {
   "cell_type": "code",
   "execution_count": 419,
   "metadata": {},
   "outputs": [],
   "source": [
    "data3=pd.merge(data3,data2,on='id',how='inner')"
   ]
  },
  {
   "cell_type": "code",
   "execution_count": 420,
   "metadata": {},
   "outputs": [],
   "source": [
    "#data3.head()"
   ]
  },
  {
   "cell_type": "code",
   "execution_count": 421,
   "metadata": {},
   "outputs": [],
   "source": [
    "names_dic={}\n",
    "customer={}\n",
    "name=[]\n",
    "id=[]\n",
    "Customer_text=[]\n",
    "for i in data['id'].unique():\n",
    "    #print(i)\n",
    "    users=data[data['id']==i]['name'].unique().tolist()\n",
    "    names_dic[i]=users\n",
    "    customer[i]=' '.join([str(i) for i in data[(data['id']==i) & (data['name']==users[0])]['body'].values.tolist()if i is not np.nan])\n",
    "    customer[i]=users[0]\n",
    "    id.append(i)\n",
    "    name.append(users[0])\n",
    "    txt=data[(data['id']==i) & (data['name']==users[0])]['body'].values.tolist()\n",
    "    Customer_text.append(' '.join([str(i) for i in txt if i is not np.nan]))"
   ]
  },
  {
   "cell_type": "code",
   "execution_count": 422,
   "metadata": {},
   "outputs": [],
   "source": [
    "data4=pd.DataFrame({\"Customer_text\":Customer_text,'id':id,'Customer_name':name})"
   ]
  },
  {
   "cell_type": "code",
   "execution_count": 423,
   "metadata": {},
   "outputs": [
    {
     "data": {
      "text/plain": [
       "(2480, 3)"
      ]
     },
     "execution_count": 423,
     "metadata": {},
     "output_type": "execute_result"
    }
   ],
   "source": [
    "data4.shape"
   ]
  },
  {
   "cell_type": "code",
   "execution_count": 424,
   "metadata": {},
   "outputs": [
    {
     "data": {
      "text/plain": [
       "2480"
      ]
     },
     "execution_count": 424,
     "metadata": {},
     "output_type": "execute_result"
    }
   ],
   "source": [
    "len(data1.id.unique())"
   ]
  },
  {
   "cell_type": "code",
   "execution_count": 425,
   "metadata": {},
   "outputs": [],
   "source": [
    "data=pd.merge(data1,data4,on='id',how='inner')"
   ]
  },
  {
   "cell_type": "code",
   "execution_count": 426,
   "metadata": {},
   "outputs": [
    {
     "data": {
      "text/plain": [
       "(2483, 7)"
      ]
     },
     "execution_count": 426,
     "metadata": {},
     "output_type": "execute_result"
    }
   ],
   "source": [
    "data.shape"
   ]
  },
  {
   "cell_type": "code",
   "execution_count": 427,
   "metadata": {},
   "outputs": [],
   "source": [
    "data=pd.merge(data,data3,on='id',how='inner')"
   ]
  },
  {
   "cell_type": "code",
   "execution_count": 428,
   "metadata": {},
   "outputs": [
    {
     "data": {
      "text/plain": [
       "(2483, 14)"
      ]
     },
     "execution_count": 428,
     "metadata": {},
     "output_type": "execute_result"
    }
   ],
   "source": [
    "data.shape"
   ]
  },
  {
   "cell_type": "code",
   "execution_count": 430,
   "metadata": {},
   "outputs": [
    {
     "data": {
      "text/html": [
       "<div>\n",
       "<style scoped>\n",
       "    .dataframe tbody tr th:only-of-type {\n",
       "        vertical-align: middle;\n",
       "    }\n",
       "\n",
       "    .dataframe tbody tr th {\n",
       "        vertical-align: top;\n",
       "    }\n",
       "\n",
       "    .dataframe thead th {\n",
       "        text-align: right;\n",
       "    }\n",
       "</style>\n",
       "<table border=\"1\" class=\"dataframe\">\n",
       "  <thead>\n",
       "    <tr style=\"text-align: right;\">\n",
       "      <th></th>\n",
       "      <th>id</th>\n",
       "      <th>Cluster_x</th>\n",
       "      <th>Subcluster</th>\n",
       "      <th>issue</th>\n",
       "      <th>full_chat</th>\n",
       "      <th>Customer_name</th>\n",
       "      <th>Customer_text</th>\n",
       "      <th>Account ID / User ID</th>\n",
       "      <th>Issue Title</th>\n",
       "      <th>Division</th>\n",
       "      <th>Region</th>\n",
       "      <th>if_agent_involved</th>\n",
       "      <th>no_of_agents_involved</th>\n",
       "      <th>users</th>\n",
       "    </tr>\n",
       "  </thead>\n",
       "  <tbody>\n",
       "    <tr>\n",
       "      <th>197</th>\n",
       "      <td>724152</td>\n",
       "      <td>Keypad_Issues</td>\n",
       "      <td>Panic_Button_Feature</td>\n",
       "      <td>Does my security system keypad have some type ...</td>\n",
       "      <td>['Does my security system keypad have some typ...</td>\n",
       "      <td>Mr &amp; Mrs Brian Jackson</td>\n",
       "      <td>Does my security system keypad have some type ...</td>\n",
       "      <td>8220220700466536</td>\n",
       "      <td>Does my security system keypad have some type ...</td>\n",
       "      <td>Central</td>\n",
       "      <td>BIG SOUTH REGION</td>\n",
       "      <td>0</td>\n",
       "      <td>0</td>\n",
       "      <td>['Mr &amp; Mrs Brian Jackson', 'Automations', 'Fin...</td>\n",
       "    </tr>\n",
       "    <tr>\n",
       "      <th>290</th>\n",
       "      <td>727523</td>\n",
       "      <td>Keypad_Issues</td>\n",
       "      <td>Keypad_pair/reset/troubleshoot</td>\n",
       "      <td>My touchscreen is saying entry delay is in pro...</td>\n",
       "      <td>['My touchscreen is saying entry delay is in p...</td>\n",
       "      <td>megan tillery</td>\n",
       "      <td>My touchscreen is saying entry delay is in pro...</td>\n",
       "      <td>8396500042115604</td>\n",
       "      <td>My touchscreen is saying entry delay is in pro...</td>\n",
       "      <td>Central</td>\n",
       "      <td>BIG SOUTH REGION</td>\n",
       "      <td>0</td>\n",
       "      <td>0</td>\n",
       "      <td>['megan tillery', 'Automations', 'Final - Alar...</td>\n",
       "    </tr>\n",
       "    <tr>\n",
       "      <th>335</th>\n",
       "      <td>729442</td>\n",
       "      <td>Keypad_Issues</td>\n",
       "      <td>Entry_delay_Alert</td>\n",
       "      <td>My touchscreen is stuck on Entry delay in prog...</td>\n",
       "      <td>['My touchscreen is stuck on Entry delay in pr...</td>\n",
       "      <td>CHARITY BROCK</td>\n",
       "      <td>My touchscreen is stuck on Entry delay in prog...</td>\n",
       "      <td>8396510770042078</td>\n",
       "      <td>My touchscreen is stuck on Entry delay in prog...</td>\n",
       "      <td>Central</td>\n",
       "      <td>BIG SOUTH REGION</td>\n",
       "      <td>0</td>\n",
       "      <td>0</td>\n",
       "      <td>['CHARITY BROCK', 'Automations', 'Final - Alar...</td>\n",
       "    </tr>\n",
       "    <tr>\n",
       "      <th>395</th>\n",
       "      <td>731967</td>\n",
       "      <td>Keypad_Issues</td>\n",
       "      <td>Entry_delay_Alert</td>\n",
       "      <td>Hi! My display seems to need to be reset. I ca...</td>\n",
       "      <td>['Hi! My display seems to need to be reset. I ...</td>\n",
       "      <td>Diane Eck</td>\n",
       "      <td>Hi! My display seems to need to be reset. I ca...</td>\n",
       "      <td>8155400020581250</td>\n",
       "      <td>Hi! My display seems to need to be reset. I ca...</td>\n",
       "      <td>West</td>\n",
       "      <td>CALIFORNIA MARKET</td>\n",
       "      <td>0</td>\n",
       "      <td>0</td>\n",
       "      <td>['Diane Eck', 'Automations', 'Final - Alarm Is...</td>\n",
       "    </tr>\n",
       "    <tr>\n",
       "      <th>581</th>\n",
       "      <td>740604</td>\n",
       "      <td>Alarm_Issues</td>\n",
       "      <td>Arm/Disarm/False_Alarm</td>\n",
       "      <td>Can you please explain the &amp;ldquo;stay&amp;rdquo; ...</td>\n",
       "      <td>['Can you please explain the &amp;ldquo;stay&amp;rdquo...</td>\n",
       "      <td>CYNTHIA WALKER</td>\n",
       "      <td>Can you please explain the &amp;ldquo;stay&amp;rdquo; ...</td>\n",
       "      <td>8777701380736444</td>\n",
       "      <td>Can you please explain the Ã¢â‚¬Å“stayÃ¢â‚¬ï¿½...</td>\n",
       "      <td>West</td>\n",
       "      <td>HOUSTON MARKET</td>\n",
       "      <td>0</td>\n",
       "      <td>0</td>\n",
       "      <td>['CYNTHIA WALKER', 'Automations', 'Final - Ala...</td>\n",
       "    </tr>\n",
       "    <tr>\n",
       "      <th>605</th>\n",
       "      <td>741404</td>\n",
       "      <td>Keypad_Issues</td>\n",
       "      <td>Entry_delay_Alert</td>\n",
       "      <td>Hello. My security system has been froZen all ...</td>\n",
       "      <td>['Hello. My security system has been froZen al...</td>\n",
       "      <td>STEPHEN FERRARO</td>\n",
       "      <td>Hello. My security system has been froZen all ...</td>\n",
       "      <td>8773400150536696</td>\n",
       "      <td>Hello. My security system has been froZen all ...</td>\n",
       "      <td>NED</td>\n",
       "      <td>BOSTON MARKET</td>\n",
       "      <td>0</td>\n",
       "      <td>0</td>\n",
       "      <td>['STEPHEN FERRARO', 'Automations', 'Final - Al...</td>\n",
       "    </tr>\n",
       "    <tr>\n",
       "      <th>872</th>\n",
       "      <td>754910</td>\n",
       "      <td>Keypad_Issues</td>\n",
       "      <td>Keypad_pair/reset/troubleshoot</td>\n",
       "      <td>How to reset stuck key pad</td>\n",
       "      <td>['How to reset stuck key pad', 'Xfinity Home G...</td>\n",
       "      <td>DARRIN COLEY</td>\n",
       "      <td>How to reset stuck key pad Issues with Keypad ...</td>\n",
       "      <td>8299400471243076</td>\n",
       "      <td>How to reset stuck key pad</td>\n",
       "      <td>NED</td>\n",
       "      <td>BELTWAY</td>\n",
       "      <td>0</td>\n",
       "      <td>0</td>\n",
       "      <td>['DARRIN COLEY', 'Automations', 'Final - Alarm...</td>\n",
       "    </tr>\n",
       "  </tbody>\n",
       "</table>\n",
       "</div>"
      ],
      "text/plain": [
       "         id      Cluster_x                      Subcluster  \\\n",
       "197  724152  Keypad_Issues            Panic_Button_Feature   \n",
       "290  727523  Keypad_Issues  Keypad_pair/reset/troubleshoot   \n",
       "335  729442  Keypad_Issues               Entry_delay_Alert   \n",
       "395  731967  Keypad_Issues               Entry_delay_Alert   \n",
       "581  740604   Alarm_Issues          Arm/Disarm/False_Alarm   \n",
       "605  741404  Keypad_Issues               Entry_delay_Alert   \n",
       "872  754910  Keypad_Issues  Keypad_pair/reset/troubleshoot   \n",
       "\n",
       "                                                 issue  \\\n",
       "197  Does my security system keypad have some type ...   \n",
       "290  My touchscreen is saying entry delay is in pro...   \n",
       "335  My touchscreen is stuck on Entry delay in prog...   \n",
       "395  Hi! My display seems to need to be reset. I ca...   \n",
       "581  Can you please explain the &ldquo;stay&rdquo; ...   \n",
       "605  Hello. My security system has been froZen all ...   \n",
       "872                         How to reset stuck key pad   \n",
       "\n",
       "                                             full_chat  \\\n",
       "197  ['Does my security system keypad have some typ...   \n",
       "290  ['My touchscreen is saying entry delay is in p...   \n",
       "335  ['My touchscreen is stuck on Entry delay in pr...   \n",
       "395  ['Hi! My display seems to need to be reset. I ...   \n",
       "581  ['Can you please explain the &ldquo;stay&rdquo...   \n",
       "605  ['Hello. My security system has been froZen al...   \n",
       "872  ['How to reset stuck key pad', 'Xfinity Home G...   \n",
       "\n",
       "              Customer_name  \\\n",
       "197  Mr & Mrs Brian Jackson   \n",
       "290           megan tillery   \n",
       "335           CHARITY BROCK   \n",
       "395               Diane Eck   \n",
       "581          CYNTHIA WALKER   \n",
       "605         STEPHEN FERRARO   \n",
       "872            DARRIN COLEY   \n",
       "\n",
       "                                         Customer_text Account ID / User ID  \\\n",
       "197  Does my security system keypad have some type ...     8220220700466536   \n",
       "290  My touchscreen is saying entry delay is in pro...     8396500042115604   \n",
       "335  My touchscreen is stuck on Entry delay in prog...     8396510770042078   \n",
       "395  Hi! My display seems to need to be reset. I ca...     8155400020581250   \n",
       "581  Can you please explain the &ldquo;stay&rdquo; ...     8777701380736444   \n",
       "605  Hello. My security system has been froZen all ...     8773400150536696   \n",
       "872  How to reset stuck key pad Issues with Keypad ...     8299400471243076   \n",
       "\n",
       "                                           Issue Title Division  \\\n",
       "197  Does my security system keypad have some type ...  Central   \n",
       "290  My touchscreen is saying entry delay is in pro...  Central   \n",
       "335  My touchscreen is stuck on Entry delay in prog...  Central   \n",
       "395  Hi! My display seems to need to be reset. I ca...     West   \n",
       "581  Can you please explain the Ã¢â‚¬Å“stayÃ¢â‚¬ï¿½...     West   \n",
       "605  Hello. My security system has been froZen all ...      NED   \n",
       "872                         How to reset stuck key pad      NED   \n",
       "\n",
       "                Region  if_agent_involved  no_of_agents_involved  \\\n",
       "197   BIG SOUTH REGION                  0                      0   \n",
       "290   BIG SOUTH REGION                  0                      0   \n",
       "335   BIG SOUTH REGION                  0                      0   \n",
       "395  CALIFORNIA MARKET                  0                      0   \n",
       "581     HOUSTON MARKET                  0                      0   \n",
       "605      BOSTON MARKET                  0                      0   \n",
       "872            BELTWAY                  0                      0   \n",
       "\n",
       "                                                 users  \n",
       "197  ['Mr & Mrs Brian Jackson', 'Automations', 'Fin...  \n",
       "290  ['megan tillery', 'Automations', 'Final - Alar...  \n",
       "335  ['CHARITY BROCK', 'Automations', 'Final - Alar...  \n",
       "395  ['Diane Eck', 'Automations', 'Final - Alarm Is...  \n",
       "581  ['CYNTHIA WALKER', 'Automations', 'Final - Ala...  \n",
       "605  ['STEPHEN FERRARO', 'Automations', 'Final - Al...  \n",
       "872  ['DARRIN COLEY', 'Automations', 'Final - Alarm...  "
      ]
     },
     "execution_count": 430,
     "metadata": {},
     "output_type": "execute_result"
    }
   ],
   "source": [
    "data[data.id.isin([724152,727523,729442,731967,740604,741404,754910])]"
   ]
  },
  {
   "cell_type": "code",
   "execution_count": 431,
   "metadata": {},
   "outputs": [],
   "source": [
    "#data.head()"
   ]
  },
  {
   "cell_type": "code",
   "execution_count": 432,
   "metadata": {},
   "outputs": [],
   "source": [
    "# Deriving Bot_Resolved feature\n",
    "data['If_Bot_resolved']=''\n",
    "for ind, row in data.iterrows():\n",
    "    if row['if_agent_involved']==0:\n",
    "        data.loc[ind,'If_Bot_resolved']=1\n",
    "    else:\n",
    "        data.loc[ind,'If_Bot_resolved']=0\n",
    "        "
   ]
  },
  {
   "cell_type": "code",
   "execution_count": 435,
   "metadata": {},
   "outputs": [],
   "source": [
    "# for validation\n",
    "for i in range(len(data)):\n",
    "    if data['if_agent_involved'][i]==0 and data['If_Bot_resolved'][i]==0:\n",
    "        print('issue')"
   ]
  },
  {
   "cell_type": "markdown",
   "metadata": {},
   "source": [
    "# Model building for main labels"
   ]
  },
  {
   "cell_type": "code",
   "execution_count": 437,
   "metadata": {},
   "outputs": [],
   "source": [
    "wordnet_lemmatizer = WordNetLemmatizer()\n",
    "porter=PorterStemmer()\n",
    "stop_words = stopwords.words('english')\n",
    "\n",
    "def lemmatize(sentence):\n",
    "    return ' '.join([lemma.lemmatize(word, 'v') for word in sentence.split(\" \")])\n",
    "                    \n",
    "def clean(line):\n",
    "    line = re.sub(r'[?,\",:,.,/,!]', ' ', line)\n",
    "    line = re.sub('[$]', 'Replaceddollar ', line)\n",
    "    line= re.sub(\"[^a-zA-Z]\", ' ', line)\n",
    "    line=[i.lower() for i in line.split(' ') if i.lower() not in stop_words]  # Removing the stopwords excluding few neg words\n",
    "    line=[wordnet_lemmatizer.lemmatize(i.lower(),pos=\"a\") for i in line]\n",
    "    line=[wordnet_lemmatizer.lemmatize(i.lower(),pos=\"n\") for i in line]\n",
    "    line=[wordnet_lemmatizer.lemmatize(i.lower(),pos=\"r\") for i in line]\n",
    "    line=[wordnet_lemmatizer.lemmatize(i.lower(),pos=\"v\") for i in line]\n",
    "    \n",
    "    line=\" \".join([porter.stem(j) for j in line if len(j)>1 and (j.isnumeric() is False)])\n",
    "    line = re.sub('  +', ' ', line) # Removing the extra spaces\n",
    "    return line.strip() #Returning the stripped sentence"
   ]
  },
  {
   "cell_type": "code",
   "execution_count": 438,
   "metadata": {},
   "outputs": [
    {
     "data": {
      "text/plain": [
       "Index(['id', 'Cluster_x', 'Subcluster', 'issue', 'full_chat', 'Customer_name',\n",
       "       'Customer_text', 'Account ID / User ID', 'Issue Title', 'Division',\n",
       "       'Region', 'if_agent_involved', 'no_of_agents_involved', 'users',\n",
       "       'If_Bot_resolved'],\n",
       "      dtype='object')"
      ]
     },
     "execution_count": 438,
     "metadata": {},
     "output_type": "execute_result"
    }
   ],
   "source": [
    "data.columns"
   ]
  },
  {
   "cell_type": "code",
   "execution_count": 439,
   "metadata": {},
   "outputs": [],
   "source": [
    "data['cleaned_text']=data['issue'].apply(lambda x: clean(x))"
   ]
  },
  {
   "cell_type": "code",
   "execution_count": 440,
   "metadata": {},
   "outputs": [],
   "source": [
    "X_train,X_test,y_train,y_test=train_test_split(data['cleaned_text'], data['Cluster_x'],random_state=1)"
   ]
  },
  {
   "cell_type": "code",
   "execution_count": 441,
   "metadata": {},
   "outputs": [
    {
     "data": {
      "text/plain": [
       "Keypad_Issues                     881\n",
       "Password_Reset/Forget_Password    861\n",
       "Need_Security_Certificate         599\n",
       "Alarm_Issues                      142\n",
       "Name: Cluster_x, dtype: int64"
      ]
     },
     "execution_count": 441,
     "metadata": {},
     "output_type": "execute_result"
    }
   ],
   "source": [
    "data['Cluster_x'].value_counts()"
   ]
  },
  {
   "cell_type": "code",
   "execution_count": 442,
   "metadata": {},
   "outputs": [
    {
     "data": {
      "text/plain": [
       "TfidfVectorizer(encoding='latin-1', min_df=3, ngram_range=(1, 2),\n",
       "                stop_words='english', sublinear_tf=True)"
      ]
     },
     "execution_count": 442,
     "metadata": {},
     "output_type": "execute_result"
    }
   ],
   "source": [
    "from sklearn.feature_extraction.text import TfidfVectorizer\n",
    "# create the transform\n",
    "vectorizer = TfidfVectorizer(sublinear_tf=True, min_df=3, norm='l2', encoding='latin-1', ngram_range=(1, 2), stop_words='english')\n",
    "#vectorizer = TfidfVectorizer(ngram_range=(1,2))\n",
    "# tokenize and build vocab\n",
    "vectorizer.fit(X_train)"
   ]
  },
  {
   "cell_type": "code",
   "execution_count": 443,
   "metadata": {},
   "outputs": [],
   "source": [
    "# from imblearn.over_sampling import SMOTE\n",
    "# oversample = SMOTE(k_neighbors=26, random_state=123)\n",
    "# X, y = oversample.fit_resample(vectorizer.transform(X_train), y_train)"
   ]
  },
  {
   "cell_type": "code",
   "execution_count": 444,
   "metadata": {},
   "outputs": [
    {
     "data": {
      "text/plain": [
       "LinearSVC()"
      ]
     },
     "execution_count": 444,
     "metadata": {},
     "output_type": "execute_result"
    }
   ],
   "source": [
    "from sklearn.svm import LinearSVC\n",
    "lsvm=LinearSVC()\n",
    "lsvm.fit(vectorizer.transform(X_train),y_train)\n",
    "#lsvm.fit(X,y)"
   ]
  },
  {
   "cell_type": "code",
   "execution_count": 445,
   "metadata": {},
   "outputs": [],
   "source": [
    "y_pred=lsvm.predict(vectorizer.transform(X_test))"
   ]
  },
  {
   "cell_type": "code",
   "execution_count": 446,
   "metadata": {},
   "outputs": [
    {
     "data": {
      "text/plain": [
       "array([[ 17,   6,   0,   7],\n",
       "       [  7, 217,   0,   3],\n",
       "       [  0,   0, 160,   0],\n",
       "       [  1,   9,   0, 194]], dtype=int64)"
      ]
     },
     "execution_count": 446,
     "metadata": {},
     "output_type": "execute_result"
    }
   ],
   "source": [
    "confusion_matrix(y_test,y_pred)"
   ]
  },
  {
   "cell_type": "code",
   "execution_count": 447,
   "metadata": {},
   "outputs": [
    {
     "name": "stdout",
     "output_type": "stream",
     "text": [
      "                                precision    recall  f1-score   support\n",
      "\n",
      "                  Alarm_Issues       0.68      0.57      0.62        30\n",
      "                 Keypad_Issues       0.94      0.96      0.95       227\n",
      "     Need_Security_Certificate       1.00      1.00      1.00       160\n",
      "Password_Reset/Forget_Password       0.95      0.95      0.95       204\n",
      "\n",
      "                      accuracy                           0.95       621\n",
      "                     macro avg       0.89      0.87      0.88       621\n",
      "                  weighted avg       0.94      0.95      0.95       621\n",
      "\n"
     ]
    }
   ],
   "source": [
    "print(classification_report(y_test,y_pred))"
   ]
  },
  {
   "cell_type": "markdown",
   "metadata": {},
   "source": [
    "# Model Bulding for Sub-labels"
   ]
  },
  {
   "cell_type": "code",
   "execution_count": 451,
   "metadata": {},
   "outputs": [],
   "source": [
    "training_data=data[pd.notnull(data['Subcluster'])]\n",
    "test_data=data[pd.isnull(data['Subcluster'])]"
   ]
  },
  {
   "cell_type": "code",
   "execution_count": 452,
   "metadata": {},
   "outputs": [
    {
     "data": {
      "text/plain": [
       "(1329, 16)"
      ]
     },
     "execution_count": 452,
     "metadata": {},
     "output_type": "execute_result"
    }
   ],
   "source": [
    "training_data.shape"
   ]
  },
  {
   "cell_type": "code",
   "execution_count": 453,
   "metadata": {},
   "outputs": [
    {
     "data": {
      "text/plain": [
       "(1154, 16)"
      ]
     },
     "execution_count": 453,
     "metadata": {},
     "output_type": "execute_result"
    }
   ],
   "source": [
    "test_data.shape"
   ]
  },
  {
   "cell_type": "code",
   "execution_count": 454,
   "metadata": {},
   "outputs": [],
   "source": [
    "stop_sentences=[\"Xfinity Home Guide\",\n",
    "                \"Bot Started\",\n",
    "                \"If you're having an emergency right now\",\n",
    "                \"please call 911\",\n",
    "                \"Dial 911 to stop a crime\",\n",
    "                \"report a fire\",\n",
    "                \"or save a life\",\n",
    "                \"Thanks for contacting us\",\n",
    "#                 \"Confirm your Xfinity Home system is disarmed\",\n",
    "#                 \"Working on devices while the system is armed can generate false alarms\",\n",
    "#                 \"Remove the Keypad from the wall by sliding upwards until it comes free of the mounting bracket\",\n",
    "#                 \"Removing Keypad from the mounting bracket will trigger a Tamper warning on the Touchscreen Controller\",\n",
    "#                 \"This will go away once the Keypad is put back on the mounting bracket\",\n",
    "#                 \"Remove and replace the batteries\",\n",
    "#                 \"Replace the Keypad on the mounting bracket\",\n",
    "#                 \"At this time, the Tamper warning disappears\",\n",
    "#                 \"Arm the system\",\n",
    "                \"Did that resolve your issue\",\n",
    "                \"No, connect to a specialist\",\n",
    "                \"We will be here to support you if you can chat with us again in the future\",\n",
    "                \"Bot Ended\",\n",
    "                \"It's been a while since we last heard from you\",\n",
    "                \"You can initiate a new chat anytime during our chat hours (7am - 2am EDT)\",\n",
    "                \"It seems like you are busy at this time\"\n",
    "               \"Please acknowledge my last message\",\"please call us at 1-800-XFINITY (1-800-934-6489)\",\n",
    "                \"We will be here to support you if you can chat with us again in the future\",\n",
    "                \"visit support.xfinity.com/chat for live agent support at any time\",\n",
    "                \"If you need help outside of our chat business hours (7am -2am)\",\n",
    "                \"It's been an hour since we last heard from you\", \"we will save & close this chat\",\n",
    "                \"Thank you for choosing XFINITY\",\n",
    "                \"It was my pleasure to assist you today\",\n",
    "                \"Awesome\",\"I apologize for the wait time in queue\",\n",
    "                \"You are most welcome\",\n",
    "                \"When you have a moment, please ensure your Emergency Contact information is up to date\",\n",
    "                \"You can review and update these from the Xfinity Home mobile app and Subscriber Portal\",\n",
    "                \"https://www.xfinity.com/support/home-security/add-change-emergency-contact-mobile-app\",\n",
    "                \"https://www.xfinity.com/support/articles/manage-emergency-dispatch-contacts\",\n",
    "                \"You have been great\",\n",
    "                \"Before we connect you to a specialist\",\n",
    "                \"Let me quickly help you in this concern\",\n",
    "                \"All of our specialists are currently busy and will chat with you shortly\",\n",
    "                \"Please make sure you have push notifications enabled to see your specialist's reply\",\"I apologize for the inconvenience\",\n",
    "                \"We value your business as a customer\", \"Have a great day ahead\",\"Accepted the solution\",\"Good Afternoon\",\"Good Morning\",\n",
    "                \"It was a pleasure to help\",\"May I have your complete name\",\"May I have your good name\",\"May I have your full name\",\n",
    "                \"Are we good so far\",\"What would you like more information on\",\"I hope you are doing good\",\"Please be assured I will surely help you with this\",\n",
    "               \"Keypad codes are used to access the Xfinity Home Security System while the Central Station passcode is a security feature that allows you to identify yourself or someone you trust to the Central Monitoring Station in the event of an alarm\",\n",
    "               \"Connect to a specialist\",\"sure\",\"You're welcome\",\"You are welcome\",\"got it\",'thanks',\"Maintaining these is important in the event that an alarm occurs\",\n",
    "               \"Thank you\",\"thanks a lot\",\"I appreciate your efforts and patience\",\"I appreciate your cooperation and patience throughout the chat\",\n",
    "               \"Have a great day\",\"Hi\",\"Hello\",\"bye\"]\n",
    "stop_sentences=[i.lower() for i in stop_sentences]"
   ]
  },
  {
   "cell_type": "code",
   "execution_count": 455,
   "metadata": {},
   "outputs": [],
   "source": [
    "# Taking all chat info"
   ]
  },
  {
   "cell_type": "code",
   "execution_count": 456,
   "metadata": {},
   "outputs": [],
   "source": [
    "def remove_sentences(x):\n",
    "    for i in stop_sentences:\n",
    "        x=x.replace(i,\"\")\n",
    "    return x    "
   ]
  },
  {
   "cell_type": "code",
   "execution_count": 457,
   "metadata": {},
   "outputs": [
    {
     "name": "stderr",
     "output_type": "stream",
     "text": [
      "C:\\Users\\Gireesh.Muppalla\\AppData\\Roaming\\Python\\Python36\\site-packages\\ipykernel_launcher.py:1: SettingWithCopyWarning: \n",
      "A value is trying to be set on a copy of a slice from a DataFrame.\n",
      "Try using .loc[row_indexer,col_indexer] = value instead\n",
      "\n",
      "See the caveats in the documentation: http://pandas.pydata.org/pandas-docs/stable/indexing.html#indexing-view-versus-copy\n",
      "  \"\"\"Entry point for launching an IPython kernel.\n",
      "C:\\Users\\Gireesh.Muppalla\\AppData\\Roaming\\Python\\Python36\\site-packages\\ipykernel_launcher.py:2: SettingWithCopyWarning: \n",
      "A value is trying to be set on a copy of a slice from a DataFrame.\n",
      "Try using .loc[row_indexer,col_indexer] = value instead\n",
      "\n",
      "See the caveats in the documentation: http://pandas.pydata.org/pandas-docs/stable/indexing.html#indexing-view-versus-copy\n",
      "  \n"
     ]
    }
   ],
   "source": [
    "training_data['full_chat2']=training_data['Customer_text'].apply(lambda x: remove_sentences(x))\n",
    "test_data['full_chat2']=test_data['Customer_text'].apply(lambda x: remove_sentences(x))"
   ]
  },
  {
   "cell_type": "code",
   "execution_count": 458,
   "metadata": {},
   "outputs": [
    {
     "name": "stderr",
     "output_type": "stream",
     "text": [
      "C:\\Users\\Gireesh.Muppalla\\AppData\\Roaming\\Python\\Python36\\site-packages\\ipykernel_launcher.py:1: SettingWithCopyWarning: \n",
      "A value is trying to be set on a copy of a slice from a DataFrame.\n",
      "Try using .loc[row_indexer,col_indexer] = value instead\n",
      "\n",
      "See the caveats in the documentation: http://pandas.pydata.org/pandas-docs/stable/indexing.html#indexing-view-versus-copy\n",
      "  \"\"\"Entry point for launching an IPython kernel.\n"
     ]
    }
   ],
   "source": [
    "training_data['Subcluster']=training_data['Subcluster'].apply(lambda x: x.lower())"
   ]
  },
  {
   "cell_type": "code",
   "execution_count": 459,
   "metadata": {},
   "outputs": [
    {
     "name": "stderr",
     "output_type": "stream",
     "text": [
      "C:\\Users\\Gireesh.Muppalla\\AppData\\Roaming\\Python\\Python36\\site-packages\\ipykernel_launcher.py:1: SettingWithCopyWarning: \n",
      "A value is trying to be set on a copy of a slice from a DataFrame.\n",
      "Try using .loc[row_indexer,col_indexer] = value instead\n",
      "\n",
      "See the caveats in the documentation: http://pandas.pydata.org/pandas-docs/stable/indexing.html#indexing-view-versus-copy\n",
      "  \"\"\"Entry point for launching an IPython kernel.\n",
      "C:\\Users\\Gireesh.Muppalla\\AppData\\Roaming\\Python\\Python36\\site-packages\\ipykernel_launcher.py:2: SettingWithCopyWarning: \n",
      "A value is trying to be set on a copy of a slice from a DataFrame.\n",
      "Try using .loc[row_indexer,col_indexer] = value instead\n",
      "\n",
      "See the caveats in the documentation: http://pandas.pydata.org/pandas-docs/stable/indexing.html#indexing-view-versus-copy\n",
      "  \n"
     ]
    }
   ],
   "source": [
    "training_data['cleaned_full_text']=training_data['full_chat2'].apply(lambda x: clean(x))\n",
    "test_data['cleaned_full_text']=test_data['full_chat2'].apply(lambda x: clean(x))\n"
   ]
  },
  {
   "cell_type": "code",
   "execution_count": 460,
   "metadata": {},
   "outputs": [
    {
     "data": {
      "text/plain": [
       "security_alarm_certificate           563\n",
       "reset_master_code                    185\n",
       "entry_delay_alert                     93\n",
       "others                                90\n",
       "keypad_pair/reset/troubleshoot        80\n",
       "reset_central_station_passcode        80\n",
       "arm/disarm/false_alarm                72\n",
       "manage_keypad_codes                   51\n",
       "low_bat_alert/new_bat_not_working     22\n",
       "reset_home_app_password               16\n",
       "keypad_cont_blinking                  15\n",
       "comm_falure_alert                     14\n",
       "entry_exit_delay_setting              12\n",
       "new_keypad_enquiry                    11\n",
       "panic_button_feature                  11\n",
       "tamper_alert                           8\n",
       "reset_secret_question                  6\n",
       "Name: Subcluster, dtype: int64"
      ]
     },
     "execution_count": 460,
     "metadata": {},
     "output_type": "execute_result"
    }
   ],
   "source": [
    "training_data['Subcluster'].value_counts()"
   ]
  },
  {
   "cell_type": "code",
   "execution_count": 461,
   "metadata": {},
   "outputs": [],
   "source": [
    "X_train,X_test,y_train,y_test=train_test_split(training_data['cleaned_full_text'], training_data['Subcluster'],stratify=training_data['Subcluster'],random_state=5,test_size=0.25)"
   ]
  },
  {
   "cell_type": "code",
   "execution_count": 462,
   "metadata": {},
   "outputs": [],
   "source": [
    "#a=X_train.append(training_data[training_data.index.isin(train_new_bat)]['cleaned_full_text'])"
   ]
  },
  {
   "cell_type": "code",
   "execution_count": 463,
   "metadata": {},
   "outputs": [],
   "source": [
    "#y=y_train.append(training_data[training_data.index.isin(train_new_bat)]['Subcluster'])"
   ]
  },
  {
   "cell_type": "code",
   "execution_count": 464,
   "metadata": {},
   "outputs": [
    {
     "data": {
      "text/plain": [
       "TfidfVectorizer(encoding='latin-1', min_df=3, ngram_range=(1, 2),\n",
       "                stop_words='english')"
      ]
     },
     "execution_count": 464,
     "metadata": {},
     "output_type": "execute_result"
    }
   ],
   "source": [
    "from sklearn.feature_extraction.text import TfidfVectorizer\n",
    "# create the transform\n",
    "vectorizer = TfidfVectorizer(sublinear_tf=False, min_df=3, norm='l2', encoding='latin-1', ngram_range=(1, 2), stop_words='english')\n",
    "#vectorizer = TfidfVectorizer(ngram_range=(1,2))\n",
    "# tokenize and build vocab\n",
    "vectorizer.fit(X_train)"
   ]
  },
  {
   "cell_type": "code",
   "execution_count": 465,
   "metadata": {},
   "outputs": [],
   "source": [
    "# Oversampling\n",
    "from imblearn.over_sampling import SMOTE\n",
    "oversample = SMOTE(k_neighbors=4, random_state=123)\n",
    "X, y = oversample.fit_resample(vectorizer.transform(X_train), y_train)"
   ]
  },
  {
   "cell_type": "code",
   "execution_count": 466,
   "metadata": {},
   "outputs": [
    {
     "data": {
      "text/plain": [
       "comm_falure_alert                    422\n",
       "entry_exit_delay_setting             422\n",
       "security_alarm_certificate           422\n",
       "low_bat_alert/new_bat_not_working    422\n",
       "reset_master_code                    422\n",
       "keypad_cont_blinking                 422\n",
       "keypad_pair/reset/troubleshoot       422\n",
       "panic_button_feature                 422\n",
       "new_keypad_enquiry                   422\n",
       "reset_central_station_passcode       422\n",
       "arm/disarm/false_alarm               422\n",
       "others                               422\n",
       "manage_keypad_codes                  422\n",
       "reset_home_app_password              422\n",
       "tamper_alert                         422\n",
       "entry_delay_alert                    422\n",
       "reset_secret_question                422\n",
       "Name: Subcluster, dtype: int64"
      ]
     },
     "execution_count": 466,
     "metadata": {},
     "output_type": "execute_result"
    }
   ],
   "source": [
    "y.value_counts()"
   ]
  },
  {
   "cell_type": "code",
   "execution_count": 467,
   "metadata": {},
   "outputs": [
    {
     "data": {
      "text/plain": [
       "LinearSVC()"
      ]
     },
     "execution_count": 467,
     "metadata": {},
     "output_type": "execute_result"
    }
   ],
   "source": [
    "from sklearn.svm import LinearSVC\n",
    "lsvc=LinearSVC()\n",
    "#lsvc.fit(vectorizer.transform(X_train),y_train)\n",
    "lsvc.fit(X,y)"
   ]
  },
  {
   "cell_type": "code",
   "execution_count": 468,
   "metadata": {},
   "outputs": [],
   "source": [
    "y_pred=lsvc.predict(vectorizer.transform(X_test))"
   ]
  },
  {
   "cell_type": "code",
   "execution_count": 469,
   "metadata": {},
   "outputs": [
    {
     "name": "stdout",
     "output_type": "stream",
     "text": [
      "[[ 12   0   0   1   0   0   0   0   0   5   0   0   0   0   0   0   0]\n",
      " [  0   2   0   0   0   0   0   0   0   1   0   0   0   0   0   0   0]\n",
      " [  0   0  23   0   0   0   0   0   0   0   0   0   0   0   0   0   0]\n",
      " [  0   0   0   3   0   0   0   0   0   0   0   0   0   0   0   0   0]\n",
      " [  0   0   0   0   3   1   0   0   0   0   0   0   0   0   0   0   0]\n",
      " [  1   0   3   0   0  13   1   1   0   1   0   0   0   0   0   0   0]\n",
      " [  0   0   0   0   0   3   3   0   0   0   0   0   0   0   0   0   0]\n",
      " [  0   0   0   0   0   0   0  11   0   1   0   0   0   1   0   0   0]\n",
      " [  1   0   0   0   0   0   0   0   2   0   0   0   0   0   0   0   0]\n",
      " [  6   0   2   1   0   4   1   0   0   9   0   0   0   0   0   0   0]\n",
      " [  0   0   0   0   0   0   0   0   0   0   3   0   0   0   0   0   0]\n",
      " [  1   0   0   0   0   0   0   3   0   0   0  13   0   3   0   0   0]\n",
      " [  0   0   0   0   0   0   0   0   0   0   0   2   2   0   0   0   0]\n",
      " [  1   0   0   0   0   1   0   1   0   0   0   2   0  41   0   0   0]\n",
      " [  0   0   0   0   0   0   0   0   0   0   0   0   0   0   1   0   0]\n",
      " [  0   0   0   0   0   0   0   0   0   0   0   0   0   0   0 141   0]\n",
      " [  0   0   0   0   0   0   0   0   0   1   0   0   0   0   0   0   1]]\n"
     ]
    }
   ],
   "source": [
    "print(confusion_matrix(y_test,y_pred))"
   ]
  },
  {
   "cell_type": "code",
   "execution_count": 470,
   "metadata": {},
   "outputs": [
    {
     "name": "stdout",
     "output_type": "stream",
     "text": [
      "                                   precision    recall  f1-score   support\n",
      "\n",
      "           arm/disarm/false_alarm       0.55      0.67      0.60        18\n",
      "                comm_falure_alert       1.00      0.67      0.80         3\n",
      "                entry_delay_alert       0.82      1.00      0.90        23\n",
      "         entry_exit_delay_setting       0.60      1.00      0.75         3\n",
      "             keypad_cont_blinking       1.00      0.75      0.86         4\n",
      "   keypad_pair/reset/troubleshoot       0.59      0.65      0.62        20\n",
      "low_bat_alert/new_bat_not_working       0.60      0.50      0.55         6\n",
      "              manage_keypad_codes       0.69      0.85      0.76        13\n",
      "               new_keypad_enquiry       1.00      0.67      0.80         3\n",
      "                           others       0.50      0.39      0.44        23\n",
      "             panic_button_feature       1.00      1.00      1.00         3\n",
      "   reset_central_station_passcode       0.76      0.65      0.70        20\n",
      "          reset_home_app_password       1.00      0.50      0.67         4\n",
      "                reset_master_code       0.91      0.89      0.90        46\n",
      "            reset_secret_question       1.00      1.00      1.00         1\n",
      "       security_alarm_certificate       1.00      1.00      1.00       141\n",
      "                     tamper_alert       1.00      0.50      0.67         2\n",
      "\n",
      "                         accuracy                           0.85       333\n",
      "                        macro avg       0.82      0.75      0.77       333\n",
      "                     weighted avg       0.85      0.85      0.85       333\n",
      "\n"
     ]
    }
   ],
   "source": [
    "print(classification_report(y_test,y_pred))"
   ]
  },
  {
   "cell_type": "markdown",
   "metadata": {},
   "source": [
    "# Predicting on the test data"
   ]
  },
  {
   "cell_type": "code",
   "execution_count": 471,
   "metadata": {},
   "outputs": [
    {
     "name": "stderr",
     "output_type": "stream",
     "text": [
      "C:\\Users\\Gireesh.Muppalla\\AppData\\Roaming\\Python\\Python36\\site-packages\\ipykernel_launcher.py:2: SettingWithCopyWarning: \n",
      "A value is trying to be set on a copy of a slice from a DataFrame.\n",
      "Try using .loc[row_indexer,col_indexer] = value instead\n",
      "\n",
      "See the caveats in the documentation: http://pandas.pydata.org/pandas-docs/stable/indexing.html#indexing-view-versus-copy\n",
      "  \n"
     ]
    }
   ],
   "source": [
    "test_data['cleaned_full_text']\n",
    "test_data['Subcluster']=lsvc.predict(vectorizer.transform(test_data['cleaned_full_text']))"
   ]
  },
  {
   "cell_type": "code",
   "execution_count": 472,
   "metadata": {},
   "outputs": [],
   "source": [
    "training_data=training_data.drop(['Issue Title','cleaned_text','full_chat2','cleaned_full_text'],axis=1)"
   ]
  },
  {
   "cell_type": "code",
   "execution_count": 473,
   "metadata": {},
   "outputs": [],
   "source": [
    "test_data=test_data.drop(['Issue Title','cleaned_text','full_chat2','cleaned_full_text'],axis=1)"
   ]
  },
  {
   "cell_type": "code",
   "execution_count": 474,
   "metadata": {},
   "outputs": [],
   "source": [
    "writer = pd.ExcelWriter('XH_Drivers_Final.xlsx', engine='xlsxwriter')\n",
    "\n",
    "# Write each dataframe to a different worksheet.\n",
    "training_data.to_excel(writer, sheet_name='Training_Data')\n",
    "test_data.to_excel(writer, sheet_name='Test_Data')"
   ]
  },
  {
   "cell_type": "code",
   "execution_count": 475,
   "metadata": {},
   "outputs": [],
   "source": [
    "writer.save()"
   ]
  },
  {
   "cell_type": "code",
   "execution_count": 351,
   "metadata": {},
   "outputs": [
    {
     "name": "stdout",
     "output_type": "stream",
     "text": [
      "C:\\Users\\Gireesh.Muppalla\\Downloads\n"
     ]
    }
   ],
   "source": [
    "import os\n",
    "print(os.getcwd())"
   ]
  },
  {
   "cell_type": "code",
   "execution_count": 137,
   "metadata": {},
   "outputs": [],
   "source": [
    "#test_data.to_csv('predicted_test.csv')"
   ]
  },
  {
   "cell_type": "markdown",
   "metadata": {},
   "source": [
    "# Trail and Error"
   ]
  },
  {
   "cell_type": "code",
   "execution_count": 77,
   "metadata": {},
   "outputs": [],
   "source": [
    "X_train,X_test,y_train,y_test=train_test_split(training_data['cleaned_full_text'], training_data['Subcluster'],stratify=training_data['Subcluster'],random_state=5,test_size=0.20)"
   ]
  },
  {
   "cell_type": "code",
   "execution_count": 78,
   "metadata": {},
   "outputs": [
    {
     "data": {
      "text/plain": [
       "(1063, 2429)"
      ]
     },
     "execution_count": 78,
     "metadata": {},
     "output_type": "execute_result"
    }
   ],
   "source": [
    "from sklearn.feature_extraction.text import CountVectorizer\n",
    "count_vect = CountVectorizer()\n",
    "X_train_counts = count_vect.fit_transform(X_train)\n",
    "X_train_counts.shape"
   ]
  },
  {
   "cell_type": "code",
   "execution_count": 79,
   "metadata": {},
   "outputs": [
    {
     "data": {
      "text/plain": [
       "(1063, 2429)"
      ]
     },
     "execution_count": 79,
     "metadata": {},
     "output_type": "execute_result"
    }
   ],
   "source": [
    "from sklearn.feature_extraction.text import TfidfTransformer\n",
    "tfidf_transformer = TfidfTransformer()\n",
    "X_train_tfidf = tfidf_transformer.fit_transform(X_train_counts)\n",
    "X_train_tfidf.shape"
   ]
  },
  {
   "cell_type": "code",
   "execution_count": 80,
   "metadata": {},
   "outputs": [],
   "source": [
    "from sklearn.naive_bayes import MultinomialNB\n",
    "clf = MultinomialNB().fit(X_train_tfidf, y_train)"
   ]
  },
  {
   "cell_type": "code",
   "execution_count": 81,
   "metadata": {},
   "outputs": [
    {
     "name": "stdout",
     "output_type": "stream",
     "text": [
      "                                   precision    recall  f1-score   support\n",
      "\n",
      "           arm/disarm/false_alarm       1.00      0.07      0.12        15\n",
      "                comm_falure_alert       0.00      0.00      0.00         3\n",
      "                entry_delay_alert       0.73      1.00      0.84        19\n",
      "         entry_exit_delay_setting       0.00      0.00      0.00         2\n",
      "             keypad_cont_blinking       0.00      0.00      0.00         3\n",
      "   keypad_pair/reset/troubleshoot       0.27      0.25      0.26        16\n",
      "low_bat_alert/new_bat_not_working       0.00      0.00      0.00         4\n",
      "              manage_keypad_codes       1.00      0.10      0.18        10\n",
      "               new_keypad_enquiry       0.00      0.00      0.00         2\n",
      "                           others       0.33      0.17      0.22        18\n",
      "             panic_button_feature       0.00      0.00      0.00         2\n",
      "   reset_central_station_passcode       1.00      0.19      0.32        16\n",
      "          reset_home_app_password       0.00      0.00      0.00         3\n",
      "                reset_master_code       0.52      1.00      0.69        37\n",
      "            reset_secret_question       0.00      0.00      0.00         1\n",
      "       security_alarm_certificate       0.81      1.00      0.89       113\n",
      "                     tamper_alert       0.00      0.00      0.00         2\n",
      "\n",
      "                         accuracy                           0.68       266\n",
      "                        macro avg       0.33      0.22      0.21       266\n",
      "                     weighted avg       0.66      0.68      0.60       266\n",
      "\n"
     ]
    },
    {
     "name": "stderr",
     "output_type": "stream",
     "text": [
      "C:\\Users\\Gireesh.Muppalla\\AppData\\Roaming\\Python\\Python36\\site-packages\\sklearn\\metrics\\_classification.py:1221: UndefinedMetricWarning: Precision and F-score are ill-defined and being set to 0.0 in labels with no predicted samples. Use `zero_division` parameter to control this behavior.\n",
      "  _warn_prf(average, modifier, msg_start, len(result))\n"
     ]
    }
   ],
   "source": [
    "y_pred=clf.predict(tfidf_transformer.transform(count_vect.transform(X_test)))\n",
    "print(classification_report(y_test,y_pred))"
   ]
  },
  {
   "cell_type": "code",
   "execution_count": 82,
   "metadata": {},
   "outputs": [
    {
     "name": "stderr",
     "output_type": "stream",
     "text": [
      "C:\\Users\\Gireesh.Muppalla\\AppData\\Roaming\\Python\\Python36\\site-packages\\sklearn\\linear_model\\_stochastic_gradient.py:573: ConvergenceWarning: Maximum number of iteration reached before convergence. Consider increasing max_iter to improve the fit.\n",
      "  ConvergenceWarning)\n"
     ]
    }
   ],
   "source": [
    "from sklearn.pipeline import Pipeline\n",
    "text_clf = Pipeline([('vect', CountVectorizer()),\n",
    "                     ('tfidf', TfidfTransformer()),\n",
    "                     ('clf', SGDClassifier(loss='hinge', penalty='l2',alpha=1e-3, max_iter=5, random_state=42))])\n",
    "text_clf = text_clf.fit(X_train, y_train)"
   ]
  },
  {
   "cell_type": "code",
   "execution_count": 83,
   "metadata": {},
   "outputs": [
    {
     "name": "stdout",
     "output_type": "stream",
     "text": [
      "                                   precision    recall  f1-score   support\n",
      "\n",
      "           arm/disarm/false_alarm       0.50      0.73      0.59        15\n",
      "                comm_falure_alert       1.00      0.33      0.50         3\n",
      "                entry_delay_alert       0.73      1.00      0.84        19\n",
      "         entry_exit_delay_setting       0.50      1.00      0.67         2\n",
      "             keypad_cont_blinking       1.00      0.33      0.50         3\n",
      "   keypad_pair/reset/troubleshoot       0.47      0.50      0.48        16\n",
      "low_bat_alert/new_bat_not_working       0.40      0.50      0.44         4\n",
      "              manage_keypad_codes       1.00      0.70      0.82        10\n",
      "               new_keypad_enquiry       1.00      0.50      0.67         2\n",
      "                           others       0.57      0.22      0.32        18\n",
      "             panic_button_feature       1.00      1.00      1.00         2\n",
      "   reset_central_station_passcode       0.67      0.75      0.71        16\n",
      "          reset_home_app_password       0.00      0.00      0.00         3\n",
      "                reset_master_code       0.92      0.95      0.93        37\n",
      "            reset_secret_question       0.50      1.00      0.67         1\n",
      "       security_alarm_certificate       1.00      1.00      1.00       113\n",
      "                     tamper_alert       1.00      1.00      1.00         2\n",
      "\n",
      "                         accuracy                           0.83       266\n",
      "                        macro avg       0.72      0.68      0.66       266\n",
      "                     weighted avg       0.83      0.83      0.82       266\n",
      "\n"
     ]
    },
    {
     "name": "stderr",
     "output_type": "stream",
     "text": [
      "C:\\Users\\Gireesh.Muppalla\\AppData\\Roaming\\Python\\Python36\\site-packages\\sklearn\\metrics\\_classification.py:1221: UndefinedMetricWarning: Precision and F-score are ill-defined and being set to 0.0 in labels with no predicted samples. Use `zero_division` parameter to control this behavior.\n",
      "  _warn_prf(average, modifier, msg_start, len(result))\n"
     ]
    }
   ],
   "source": [
    "y_pred=text_clf.predict(X_test)\n",
    "print(classification_report(y_test,y_pred))"
   ]
  },
  {
   "cell_type": "code",
   "execution_count": 84,
   "metadata": {},
   "outputs": [
    {
     "name": "stderr",
     "output_type": "stream",
     "text": [
      "C:\\Users\\Gireesh.Muppalla\\AppData\\Roaming\\Python\\Python36\\site-packages\\sklearn\\linear_model\\_stochastic_gradient.py:573: ConvergenceWarning: Maximum number of iteration reached before convergence. Consider increasing max_iter to improve the fit.\n",
      "  ConvergenceWarning)\n"
     ]
    },
    {
     "data": {
      "text/plain": [
       "Pipeline(steps=[('vect', CountVectorizer()), ('tfidf', TfidfTransformer()),\n",
       "                ('clf-svm',\n",
       "                 SGDClassifier(alpha=0.001, max_iter=5, random_state=42))])"
      ]
     },
     "execution_count": 84,
     "metadata": {},
     "output_type": "execute_result"
    }
   ],
   "source": [
    "from sklearn.linear_model import SGDClassifier\n",
    "text_clf_svm = Pipeline([('vect', CountVectorizer()),\n",
    "                    ('tfidf', TfidfTransformer()),\n",
    "                     ('clf-svm', SGDClassifier(loss='hinge', penalty='l2',\n",
    "                                            alpha=1e-3, max_iter=5, random_state=42)),\n",
    "])\n",
    "text_clf_svm.fit(twenty_train.data, twenty_train.target)\n",
    "# predicted_svm = text_clf_svm.predict(twenty_test.data)\n",
    "# np.mean(predicted_svm == twenty_test.target)"
   ]
  },
  {
   "cell_type": "code",
   "execution_count": 85,
   "metadata": {},
   "outputs": [],
   "source": [
    "from sklearn.model_selection import GridSearchCV\n",
    "parameters = {'vect__ngram_range': [(1, 1), (1, 2),(1, 3),(2,2)],\n",
    "               'tfidf__use_idf': (True, False),\n",
    "               'clf__alpha': (1e-2, 1e-3)}"
   ]
  },
  {
   "cell_type": "code",
   "execution_count": 86,
   "metadata": {},
   "outputs": [
    {
     "name": "stdout",
     "output_type": "stream",
     "text": [
      "                                   precision    recall  f1-score   support\n",
      "\n",
      "           arm/disarm/false_alarm       0.53      0.67      0.59        15\n",
      "                comm_falure_alert       1.00      0.33      0.50         3\n",
      "                entry_delay_alert       0.68      1.00      0.81        19\n",
      "         entry_exit_delay_setting       0.33      0.50      0.40         2\n",
      "             keypad_cont_blinking       1.00      0.67      0.80         3\n",
      "   keypad_pair/reset/troubleshoot       0.48      0.69      0.56        16\n",
      "low_bat_alert/new_bat_not_working       1.00      0.25      0.40         4\n",
      "              manage_keypad_codes       1.00      0.70      0.82        10\n",
      "               new_keypad_enquiry       1.00      0.50      0.67         2\n",
      "                           others       0.67      0.33      0.44        18\n",
      "             panic_button_feature       1.00      1.00      1.00         2\n",
      "   reset_central_station_passcode       0.67      0.62      0.65        16\n",
      "          reset_home_app_password       1.00      0.33      0.50         3\n",
      "                reset_master_code       0.90      0.95      0.92        37\n",
      "            reset_secret_question       1.00      1.00      1.00         1\n",
      "       security_alarm_certificate       1.00      1.00      1.00       113\n",
      "                     tamper_alert       1.00      0.50      0.67         2\n",
      "\n",
      "                         accuracy                           0.83       266\n",
      "                        macro avg       0.84      0.65      0.69       266\n",
      "                     weighted avg       0.86      0.83      0.83       266\n",
      "\n"
     ]
    },
    {
     "name": "stderr",
     "output_type": "stream",
     "text": [
      "C:\\Users\\Gireesh.Muppalla\\AppData\\Roaming\\Python\\Python36\\site-packages\\sklearn\\linear_model\\_stochastic_gradient.py:573: ConvergenceWarning: Maximum number of iteration reached before convergence. Consider increasing max_iter to improve the fit.\n",
      "  ConvergenceWarning)\n"
     ]
    }
   ],
   "source": [
    "gs_clf = GridSearchCV(text_clf, parameters, n_jobs=-1)\n",
    "gs_clf = gs_clf.fit(X_train, y_train)\n",
    "y_pred=gs_clf.predict(X_test)\n",
    "print(classification_report(y_test,y_pred))"
   ]
  },
  {
   "cell_type": "code",
   "execution_count": 75,
   "metadata": {},
   "outputs": [
    {
     "name": "stdout",
     "output_type": "stream",
     "text": [
      "0.8393618090452261\n",
      "{'clf__alpha': 0.001, 'tfidf__use_idf': True, 'vect__ngram_range': (1, 2)}\n"
     ]
    }
   ],
   "source": [
    "print(gs_clf.best_score_)\n",
    "print(gs_clf.best_params_)"
   ]
  },
  {
   "cell_type": "code",
   "execution_count": 88,
   "metadata": {},
   "outputs": [
    {
     "name": "stderr",
     "output_type": "stream",
     "text": [
      "C:\\Users\\Gireesh.Muppalla\\AppData\\Roaming\\Python\\Python36\\site-packages\\sklearn\\linear_model\\_stochastic_gradient.py:573: ConvergenceWarning: Maximum number of iteration reached before convergence. Consider increasing max_iter to improve the fit.\n",
      "  ConvergenceWarning)\n"
     ]
    },
    {
     "data": {
      "text/plain": [
       "{'clf-svm__alpha': 0.001, 'tfidf__use_idf': True, 'vect__ngram_range': (1, 2)}"
      ]
     },
     "execution_count": 88,
     "metadata": {},
     "output_type": "execute_result"
    }
   ],
   "source": [
    ">>> from sklearn.model_selection import GridSearchCV\n",
    ">>> parameters_svm = {'vect__ngram_range': [(1, 1), (1, 2)],\n",
    "...               'tfidf__use_idf': (True, False),\n",
    "...               'clf-svm__alpha': (1e-2, 1e-3),\n",
    "... }\n",
    "gs_clf_svm = GridSearchCV(text_clf_svm, parameters_svm, n_jobs=-1)\n",
    "gs_clf_svm = gs_clf_svm.fit(X_train, y_train)\n",
    "gs_clf_svm.best_score_\n",
    "gs_clf_svm.best_params_"
   ]
  }
 ],
 "metadata": {
  "kernelspec": {
   "display_name": "Python 3",
   "language": "python",
   "name": "python3"
  },
  "language_info": {
   "codemirror_mode": {
    "name": "ipython",
    "version": 3
   },
   "file_extension": ".py",
   "mimetype": "text/x-python",
   "name": "python",
   "nbconvert_exporter": "python",
   "pygments_lexer": "ipython3",
   "version": "3.6.4"
  }
 },
 "nbformat": 4,
 "nbformat_minor": 2
}
